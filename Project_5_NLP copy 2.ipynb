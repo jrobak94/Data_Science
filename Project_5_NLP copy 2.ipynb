{
 "cells": [
  {
   "cell_type": "markdown",
   "metadata": {
    "id": "CxYSWPCsM0YU"
   },
   "source": [
    "# Natural Language Processing\n",
    "\n"
   ]
  },
  {
   "cell_type": "markdown",
   "metadata": {
    "id": "FGQCPUEuNezI"
   },
   "source": [
    "This project will give you practical experience using Natural Language Processing techniques. This project is in three parts:\n",
    "- in part 1) you will use a traditional dataset in a CSV file\n",
    "- in part 2) you will use the Wikipedia API to directly access content\n",
    "on Wikipedia.\n",
    "- in part 3) you will make your notebook interactive\n"
   ]
  },
  {
   "cell_type": "markdown",
   "metadata": {
    "id": "IP5iaS9lNamW"
   },
   "source": [
    "### Part 1)\n",
    "\n"
   ]
  },
  {
   "cell_type": "markdown",
   "metadata": {
    "id": "twaXGmp6OAPK"
   },
   "source": [
    "- The CSV file is available at https://ddc-datascience.s3.amazonaws.com/Projects/Project.5-NLP/Data/NLP.csv\n",
    "- The file contains a list of famous people and a brief overview.\n",
    "- The goal of part 1) is provide the capability to\n",
    "  - Take one person from the list as input and output the 10 other people who's overview are \"closest\" to the person in a Natural Language Processing sense\n",
    "  - Also output the sentiment of the overview of the person\n",
    "\n"
   ]
  },
  {
   "cell_type": "markdown",
   "metadata": {},
   "source": []
  },
  {
   "cell_type": "markdown",
   "metadata": {
    "id": "SVW0y4Axty7A"
   },
   "source": [
    "Make an interactive notebook.\n",
    "\n",
    "In addition to presenting the project slides, at the end of the presentation each student will demonstrate their code using a famous person suggested by the other students that exists in the DBpedia set.\n"
   ]
  },
  {
   "cell_type": "code",
   "execution_count": 1,
   "metadata": {
    "id": "yHBJAbrGviBT"
   },
   "outputs": [],
   "source": [
    "%%capture\n",
    "# Download corpora\n",
    "!python -m textblob.download_corpora"
   ]
  },
  {
   "cell_type": "code",
   "execution_count": 2,
   "metadata": {},
   "outputs": [
    {
     "name": "stderr",
     "output_type": "stream",
     "text": [
      "[nltk_data] Downloading package wordnet to\n",
      "[nltk_data]     /Users/joeyrobak/nltk_data...\n",
      "[nltk_data]   Package wordnet is already up-to-date!\n",
      "[nltk_data] Downloading package omw-1.4 to\n",
      "[nltk_data]     /Users/joeyrobak/nltk_data...\n",
      "[nltk_data]   Package omw-1.4 is already up-to-date!\n",
      "[nltk_data] Downloading package punkt to /Users/joeyrobak/nltk_data...\n",
      "[nltk_data]   Package punkt is already up-to-date!\n",
      "[nltk_data] Downloading package averaged_perceptron_tagger_eng to\n",
      "[nltk_data]     /Users/joeyrobak/nltk_data...\n",
      "[nltk_data]   Package averaged_perceptron_tagger_eng is already up-to-\n",
      "[nltk_data]       date!\n",
      "[nltk_data] Downloading package stopwords to\n",
      "[nltk_data]     /Users/joeyrobak/nltk_data...\n",
      "[nltk_data]   Package stopwords is already up-to-date!\n"
     ]
    },
    {
     "data": {
      "text/plain": [
       "True"
      ]
     },
     "execution_count": 2,
     "metadata": {},
     "output_type": "execute_result"
    }
   ],
   "source": [
    "import numpy as np\n",
    "import plotly.express as px\n",
    "import seaborn as sns\n",
    "import matplotlib.pyplot as plt\n",
    "from textblob import TextBlob\n",
    "import pandas as pd\n",
    "from io import StringIO\n",
    "from sklearn.metrics.pairwise import cosine_similarity\n",
    "import nltk\n",
    "from nltk.corpus import stopwords\n",
    "from sklearn.neighbors import NearestNeighbors\n",
    "from sklearn.feature_extraction.text import CountVectorizer\n",
    "from sklearn.feature_extraction.text import TfidfVectorizer\n",
    "from sklearn.feature_extraction.text import TfidfTransformer\n",
    "from nltk.stem import WordNetLemmatizer\n",
    "from nltk.tokenize import word_tokenize\n",
    "nltk.download('wordnet')\n",
    "nltk.download('omw-1.4')\n",
    "nltk.download('punkt')\n",
    "nltk.download('averaged_perceptron_tagger_eng')\n",
    "nltk.download('stopwords')"
   ]
  },
  {
   "cell_type": "code",
   "execution_count": 3,
   "metadata": {},
   "outputs": [
    {
     "data": {
      "text/html": [
       "<div>\n",
       "<style scoped>\n",
       "    .dataframe tbody tr th:only-of-type {\n",
       "        vertical-align: middle;\n",
       "    }\n",
       "\n",
       "    .dataframe tbody tr th {\n",
       "        vertical-align: top;\n",
       "    }\n",
       "\n",
       "    .dataframe thead th {\n",
       "        text-align: right;\n",
       "    }\n",
       "</style>\n",
       "<table border=\"1\" class=\"dataframe\">\n",
       "  <thead>\n",
       "    <tr style=\"text-align: right;\">\n",
       "      <th></th>\n",
       "      <th>URI</th>\n",
       "      <th>name</th>\n",
       "      <th>text</th>\n",
       "    </tr>\n",
       "  </thead>\n",
       "  <tbody>\n",
       "    <tr>\n",
       "      <th>0</th>\n",
       "      <td>&lt;http://dbpedia.org/resource/Digby_Morrell&gt;</td>\n",
       "      <td>Digby Morrell</td>\n",
       "      <td>digby morrell born 10 october 1979 is a former...</td>\n",
       "    </tr>\n",
       "    <tr>\n",
       "      <th>1</th>\n",
       "      <td>&lt;http://dbpedia.org/resource/Alfred_J._Lewy&gt;</td>\n",
       "      <td>Alfred J. Lewy</td>\n",
       "      <td>alfred j lewy aka sandy lewy graduated from un...</td>\n",
       "    </tr>\n",
       "    <tr>\n",
       "      <th>2</th>\n",
       "      <td>&lt;http://dbpedia.org/resource/Harpdog_Brown&gt;</td>\n",
       "      <td>Harpdog Brown</td>\n",
       "      <td>harpdog brown is a singer and harmonica player...</td>\n",
       "    </tr>\n",
       "    <tr>\n",
       "      <th>3</th>\n",
       "      <td>&lt;http://dbpedia.org/resource/Franz_Rottensteiner&gt;</td>\n",
       "      <td>Franz Rottensteiner</td>\n",
       "      <td>franz rottensteiner born in waidmannsfeld lowe...</td>\n",
       "    </tr>\n",
       "    <tr>\n",
       "      <th>4</th>\n",
       "      <td>&lt;http://dbpedia.org/resource/G-Enka&gt;</td>\n",
       "      <td>G-Enka</td>\n",
       "      <td>henry krvits born 30 december 1974 in tallinn ...</td>\n",
       "    </tr>\n",
       "  </tbody>\n",
       "</table>\n",
       "</div>"
      ],
      "text/plain": [
       "                                                 URI                 name  \\\n",
       "0        <http://dbpedia.org/resource/Digby_Morrell>        Digby Morrell   \n",
       "1       <http://dbpedia.org/resource/Alfred_J._Lewy>       Alfred J. Lewy   \n",
       "2        <http://dbpedia.org/resource/Harpdog_Brown>        Harpdog Brown   \n",
       "3  <http://dbpedia.org/resource/Franz_Rottensteiner>  Franz Rottensteiner   \n",
       "4               <http://dbpedia.org/resource/G-Enka>               G-Enka   \n",
       "\n",
       "                                                text  \n",
       "0  digby morrell born 10 october 1979 is a former...  \n",
       "1  alfred j lewy aka sandy lewy graduated from un...  \n",
       "2  harpdog brown is a singer and harmonica player...  \n",
       "3  franz rottensteiner born in waidmannsfeld lowe...  \n",
       "4  henry krvits born 30 december 1974 in tallinn ...  "
      ]
     },
     "execution_count": 3,
     "metadata": {},
     "output_type": "execute_result"
    }
   ],
   "source": [
    "path = '/Users/joeyrobak/Downloads/NLP.xlsx'\n",
    "df=pd.read_excel(path)\n",
    "df.head()"
   ]
  },
  {
   "cell_type": "code",
   "execution_count": 4,
   "metadata": {},
   "outputs": [],
   "source": [
    "text = df['text'] #[0:50]"
   ]
  },
  {
   "cell_type": "code",
   "execution_count": 5,
   "metadata": {},
   "outputs": [],
   "source": [
    "text = text.str.lower()"
   ]
  },
  {
   "cell_type": "code",
   "execution_count": 6,
   "metadata": {},
   "outputs": [
    {
     "data": {
      "text/plain": [
       "0        digby morrell born 10 october 1979 is a former...\n",
       "1        alfred j lewy aka sandy lewy graduated from un...\n",
       "2        harpdog brown is a singer and harmonica player...\n",
       "3        franz rottensteiner born in waidmannsfeld lowe...\n",
       "4        henry krvits born 30 december 1974 in tallinn ...\n",
       "                               ...                        \n",
       "42781    motoaki takenouchi born july 8 1967 saitama pr...\n",
       "42782    alan graham judge born 14 may 1960 is a retire...\n",
       "42783    eduardo lara lozano born 4 september 1959 in c...\n",
       "42784    tatiana faberg is an author and faberg scholar...\n",
       "42785    kenneth thomas born february 24 1938 was chief...\n",
       "Name: text, Length: 42786, dtype: object"
      ]
     },
     "execution_count": 6,
     "metadata": {},
     "output_type": "execute_result"
    }
   ],
   "source": [
    "text"
   ]
  },
  {
   "cell_type": "code",
   "execution_count": 7,
   "metadata": {},
   "outputs": [],
   "source": [
    "sentiment = text.apply(lambda x: TextBlob(x).sentiment)"
   ]
  },
  {
   "cell_type": "code",
   "execution_count": 8,
   "metadata": {},
   "outputs": [
    {
     "data": {
      "text/plain": [
       "25962                                  (-0.8, 1.0)\n",
       "14143    (-0.4321428571428572, 0.7821428571428571)\n",
       "1290                 (-0.42500000000000004, 0.475)\n",
       "30126    (-0.3821428571428572, 0.6535714285714286)\n",
       "34978               (-0.35625, 0.6131944444444446)\n",
       "                           ...                    \n",
       "1126      (0.5166666666666667, 0.2972222222222222)\n",
       "4977      (0.5230909090909092, 0.4163030303030303)\n",
       "29271     (0.5249999999999999, 0.4933333333333333)\n",
       "331                      (0.5333333333333333, 0.5)\n",
       "30155     (0.5593394886363636, 0.4389441287878789)\n",
       "Name: text, Length: 42786, dtype: object"
      ]
     },
     "execution_count": 8,
     "metadata": {},
     "output_type": "execute_result"
    }
   ],
   "source": [
    "sentiment.sort_values()\n"
   ]
  },
  {
   "cell_type": "code",
   "execution_count": 9,
   "metadata": {},
   "outputs": [],
   "source": [
    "df['sentiment']=sentiment"
   ]
  },
  {
   "cell_type": "code",
   "execution_count": 10,
   "metadata": {},
   "outputs": [
    {
     "data": {
      "text/html": [
       "<div>\n",
       "<style scoped>\n",
       "    .dataframe tbody tr th:only-of-type {\n",
       "        vertical-align: middle;\n",
       "    }\n",
       "\n",
       "    .dataframe tbody tr th {\n",
       "        vertical-align: top;\n",
       "    }\n",
       "\n",
       "    .dataframe thead th {\n",
       "        text-align: right;\n",
       "    }\n",
       "</style>\n",
       "<table border=\"1\" class=\"dataframe\">\n",
       "  <thead>\n",
       "    <tr style=\"text-align: right;\">\n",
       "      <th></th>\n",
       "      <th>URI</th>\n",
       "      <th>name</th>\n",
       "      <th>text</th>\n",
       "      <th>sentiment</th>\n",
       "    </tr>\n",
       "  </thead>\n",
       "  <tbody>\n",
       "    <tr>\n",
       "      <th>0</th>\n",
       "      <td>&lt;http://dbpedia.org/resource/Digby_Morrell&gt;</td>\n",
       "      <td>Digby Morrell</td>\n",
       "      <td>digby morrell born 10 october 1979 is a former...</td>\n",
       "      <td>(-0.041666666666666664, 0.17896825396825394)</td>\n",
       "    </tr>\n",
       "    <tr>\n",
       "      <th>1</th>\n",
       "      <td>&lt;http://dbpedia.org/resource/Alfred_J._Lewy&gt;</td>\n",
       "      <td>Alfred J. Lewy</td>\n",
       "      <td>alfred j lewy aka sandy lewy graduated from un...</td>\n",
       "      <td>(0.2186607142857143, 0.5276785714285714)</td>\n",
       "    </tr>\n",
       "    <tr>\n",
       "      <th>2</th>\n",
       "      <td>&lt;http://dbpedia.org/resource/Harpdog_Brown&gt;</td>\n",
       "      <td>Harpdog Brown</td>\n",
       "      <td>harpdog brown is a singer and harmonica player...</td>\n",
       "      <td>(0.24754901960784317, 0.3892156862745098)</td>\n",
       "    </tr>\n",
       "    <tr>\n",
       "      <th>3</th>\n",
       "      <td>&lt;http://dbpedia.org/resource/Franz_Rottensteiner&gt;</td>\n",
       "      <td>Franz Rottensteiner</td>\n",
       "      <td>franz rottensteiner born in waidmannsfeld lowe...</td>\n",
       "      <td>(0.04795574795574796, 0.3609547859547859)</td>\n",
       "    </tr>\n",
       "    <tr>\n",
       "      <th>4</th>\n",
       "      <td>&lt;http://dbpedia.org/resource/G-Enka&gt;</td>\n",
       "      <td>G-Enka</td>\n",
       "      <td>henry krvits born 30 december 1974 in tallinn ...</td>\n",
       "      <td>(0.34924242424242424, 0.5173821548821549)</td>\n",
       "    </tr>\n",
       "    <tr>\n",
       "      <th>...</th>\n",
       "      <td>...</td>\n",
       "      <td>...</td>\n",
       "      <td>...</td>\n",
       "      <td>...</td>\n",
       "    </tr>\n",
       "    <tr>\n",
       "      <th>42781</th>\n",
       "      <td>&lt;http://dbpedia.org/resource/Motoaki_Takenouchi&gt;</td>\n",
       "      <td>Motoaki Takenouchi</td>\n",
       "      <td>motoaki takenouchi born july 8 1967 saitama pr...</td>\n",
       "      <td>(0.057575757575757565, 0.3984848484848485)</td>\n",
       "    </tr>\n",
       "    <tr>\n",
       "      <th>42782</th>\n",
       "      <td>&lt;http://dbpedia.org/resource/Alan_Judge_(footb...</td>\n",
       "      <td>Alan Judge (footballer, born 1960)</td>\n",
       "      <td>alan graham judge born 14 may 1960 is a retire...</td>\n",
       "      <td>(0.017857142857142856, 0.2976190476190476)</td>\n",
       "    </tr>\n",
       "    <tr>\n",
       "      <th>42783</th>\n",
       "      <td>&lt;http://dbpedia.org/resource/Eduardo_Lara&gt;</td>\n",
       "      <td>Eduardo Lara</td>\n",
       "      <td>eduardo lara lozano born 4 september 1959 in c...</td>\n",
       "      <td>(0.11477272727272729, 0.38181818181818183)</td>\n",
       "    </tr>\n",
       "    <tr>\n",
       "      <th>42784</th>\n",
       "      <td>&lt;http://dbpedia.org/resource/Tatiana_Faberg%C3...</td>\n",
       "      <td>Tatiana Faberg%C3%A9</td>\n",
       "      <td>tatiana faberg is an author and faberg scholar...</td>\n",
       "      <td>(0.1805785123966942, 0.5140495867768595)</td>\n",
       "    </tr>\n",
       "    <tr>\n",
       "      <th>42785</th>\n",
       "      <td>&lt;http://dbpedia.org/resource/Kenneth_Thomas&gt;</td>\n",
       "      <td>Kenneth Thomas</td>\n",
       "      <td>kenneth thomas born february 24 1938 was chief...</td>\n",
       "      <td>(0.05142292490118579, 0.34561264822134385)</td>\n",
       "    </tr>\n",
       "  </tbody>\n",
       "</table>\n",
       "<p>42786 rows × 4 columns</p>\n",
       "</div>"
      ],
      "text/plain": [
       "                                                     URI  \\\n",
       "0            <http://dbpedia.org/resource/Digby_Morrell>   \n",
       "1           <http://dbpedia.org/resource/Alfred_J._Lewy>   \n",
       "2            <http://dbpedia.org/resource/Harpdog_Brown>   \n",
       "3      <http://dbpedia.org/resource/Franz_Rottensteiner>   \n",
       "4                   <http://dbpedia.org/resource/G-Enka>   \n",
       "...                                                  ...   \n",
       "42781   <http://dbpedia.org/resource/Motoaki_Takenouchi>   \n",
       "42782  <http://dbpedia.org/resource/Alan_Judge_(footb...   \n",
       "42783         <http://dbpedia.org/resource/Eduardo_Lara>   \n",
       "42784  <http://dbpedia.org/resource/Tatiana_Faberg%C3...   \n",
       "42785       <http://dbpedia.org/resource/Kenneth_Thomas>   \n",
       "\n",
       "                                     name  \\\n",
       "0                           Digby Morrell   \n",
       "1                          Alfred J. Lewy   \n",
       "2                           Harpdog Brown   \n",
       "3                     Franz Rottensteiner   \n",
       "4                                  G-Enka   \n",
       "...                                   ...   \n",
       "42781                  Motoaki Takenouchi   \n",
       "42782  Alan Judge (footballer, born 1960)   \n",
       "42783                        Eduardo Lara   \n",
       "42784                Tatiana Faberg%C3%A9   \n",
       "42785                      Kenneth Thomas   \n",
       "\n",
       "                                                    text  \\\n",
       "0      digby morrell born 10 october 1979 is a former...   \n",
       "1      alfred j lewy aka sandy lewy graduated from un...   \n",
       "2      harpdog brown is a singer and harmonica player...   \n",
       "3      franz rottensteiner born in waidmannsfeld lowe...   \n",
       "4      henry krvits born 30 december 1974 in tallinn ...   \n",
       "...                                                  ...   \n",
       "42781  motoaki takenouchi born july 8 1967 saitama pr...   \n",
       "42782  alan graham judge born 14 may 1960 is a retire...   \n",
       "42783  eduardo lara lozano born 4 september 1959 in c...   \n",
       "42784  tatiana faberg is an author and faberg scholar...   \n",
       "42785  kenneth thomas born february 24 1938 was chief...   \n",
       "\n",
       "                                          sentiment  \n",
       "0      (-0.041666666666666664, 0.17896825396825394)  \n",
       "1          (0.2186607142857143, 0.5276785714285714)  \n",
       "2         (0.24754901960784317, 0.3892156862745098)  \n",
       "3         (0.04795574795574796, 0.3609547859547859)  \n",
       "4         (0.34924242424242424, 0.5173821548821549)  \n",
       "...                                             ...  \n",
       "42781    (0.057575757575757565, 0.3984848484848485)  \n",
       "42782    (0.017857142857142856, 0.2976190476190476)  \n",
       "42783    (0.11477272727272729, 0.38181818181818183)  \n",
       "42784      (0.1805785123966942, 0.5140495867768595)  \n",
       "42785    (0.05142292490118579, 0.34561264822134385)  \n",
       "\n",
       "[42786 rows x 4 columns]"
      ]
     },
     "execution_count": 10,
     "metadata": {},
     "output_type": "execute_result"
    }
   ],
   "source": [
    "df"
   ]
  },
  {
   "cell_type": "code",
   "execution_count": 11,
   "metadata": {},
   "outputs": [
    {
     "name": "stdout",
     "output_type": "stream",
     "text": [
      "0        [digby, morrell, born, 10, october, 1979, is, ...\n",
      "1        [alfred, j, lewy, aka, sandy, lewy, graduated,...\n",
      "2        [harpdog, brown, is, a, singer, and, harmonica...\n",
      "3        [franz, rottensteiner, born, in, waidmannsfeld...\n",
      "4        [henry, krvits, born, 30, december, 1974, in, ...\n",
      "                               ...                        \n",
      "42781    [motoaki, takenouchi, born, july, 8, 1967, sai...\n",
      "42782    [alan, graham, judge, born, 14, may, 1960, is,...\n",
      "42783    [eduardo, lara, lozano, born, 4, september, 19...\n",
      "42784    [tatiana, faberg, is, an, author, and, faberg,...\n",
      "42785    [kenneth, thomas, born, february, 24, 1938, wa...\n",
      "Length: 42786, dtype: object\n"
     ]
    }
   ],
   "source": [
    "tokenized_data = []\n",
    "\n",
    "# Loop through each row in the data series\n",
    "for _ in text:\n",
    "    # Convert the text to a TextBlob\n",
    "    blob = TextBlob(_)\n",
    "    # Tokenize the text by words\n",
    "    tokens = blob.words\n",
    "    # Append the tokens to the new list\n",
    "    tokenized_data.append(tokens)\n",
    "\n",
    "# Convert the list of tokens back into a pandas Series if needed\n",
    "tokenized_series = pd.Series(tokenized_data)\n",
    "print(tokenized_series)"
   ]
  },
  {
   "cell_type": "code",
   "execution_count": 12,
   "metadata": {},
   "outputs": [
    {
     "name": "stdout",
     "output_type": "stream",
     "text": [
      "0        [digby, morrell, born, 10, october, 1979, form...\n",
      "1        [alfred, j, lewy, aka, sandy, lewy, graduated,...\n",
      "2        [harpdog, brown, singer, harmonica, player, ac...\n",
      "3        [franz, rottensteiner, born, waidmannsfeld, lo...\n",
      "4        [henry, krvits, born, 30, december, 1974, tall...\n",
      "                               ...                        \n",
      "42781    [motoaki, takenouchi, born, july, 8, 1967, sai...\n",
      "42782    [alan, graham, judge, born, 14, may, 1960, ret...\n",
      "42783    [eduardo, lara, lozano, born, 4, september, 19...\n",
      "42784    [tatiana, faberg, author, faberg, scholar, swi...\n",
      "42785    [kenneth, thomas, born, february, 24, 1938, ch...\n",
      "Length: 42786, dtype: object\n"
     ]
    }
   ],
   "source": [
    "stop_words = set(stopwords.words('english'))\n",
    "\n",
    "filtered_data = tokenized_series.apply(lambda tokens: [word for word in tokens if word not in stop_words])\n",
    "\n",
    "print(filtered_data)"
   ]
  },
  {
   "cell_type": "code",
   "execution_count": 13,
   "metadata": {},
   "outputs": [],
   "source": [
    "lemmatizer = WordNetLemmatizer()\n",
    "lemitized_data = filtered_data.apply(lambda tokens: [lemmatizer.lemmatize(word) for word in tokens])"
   ]
  },
  {
   "cell_type": "code",
   "execution_count": 14,
   "metadata": {},
   "outputs": [],
   "source": [
    "df['clean_text']=lemitized_data"
   ]
  },
  {
   "cell_type": "code",
   "execution_count": 15,
   "metadata": {},
   "outputs": [
    {
     "data": {
      "text/html": [
       "<div>\n",
       "<style scoped>\n",
       "    .dataframe tbody tr th:only-of-type {\n",
       "        vertical-align: middle;\n",
       "    }\n",
       "\n",
       "    .dataframe tbody tr th {\n",
       "        vertical-align: top;\n",
       "    }\n",
       "\n",
       "    .dataframe thead th {\n",
       "        text-align: right;\n",
       "    }\n",
       "</style>\n",
       "<table border=\"1\" class=\"dataframe\">\n",
       "  <thead>\n",
       "    <tr style=\"text-align: right;\">\n",
       "      <th></th>\n",
       "      <th>URI</th>\n",
       "      <th>name</th>\n",
       "      <th>text</th>\n",
       "      <th>sentiment</th>\n",
       "      <th>clean_text</th>\n",
       "    </tr>\n",
       "  </thead>\n",
       "  <tbody>\n",
       "    <tr>\n",
       "      <th>0</th>\n",
       "      <td>&lt;http://dbpedia.org/resource/Digby_Morrell&gt;</td>\n",
       "      <td>Digby Morrell</td>\n",
       "      <td>digby morrell born 10 october 1979 is a former...</td>\n",
       "      <td>(-0.041666666666666664, 0.17896825396825394)</td>\n",
       "      <td>[digby, morrell, born, 10, october, 1979, form...</td>\n",
       "    </tr>\n",
       "    <tr>\n",
       "      <th>1</th>\n",
       "      <td>&lt;http://dbpedia.org/resource/Alfred_J._Lewy&gt;</td>\n",
       "      <td>Alfred J. Lewy</td>\n",
       "      <td>alfred j lewy aka sandy lewy graduated from un...</td>\n",
       "      <td>(0.2186607142857143, 0.5276785714285714)</td>\n",
       "      <td>[alfred, j, lewy, aka, sandy, lewy, graduated,...</td>\n",
       "    </tr>\n",
       "    <tr>\n",
       "      <th>2</th>\n",
       "      <td>&lt;http://dbpedia.org/resource/Harpdog_Brown&gt;</td>\n",
       "      <td>Harpdog Brown</td>\n",
       "      <td>harpdog brown is a singer and harmonica player...</td>\n",
       "      <td>(0.24754901960784317, 0.3892156862745098)</td>\n",
       "      <td>[harpdog, brown, singer, harmonica, player, ac...</td>\n",
       "    </tr>\n",
       "    <tr>\n",
       "      <th>3</th>\n",
       "      <td>&lt;http://dbpedia.org/resource/Franz_Rottensteiner&gt;</td>\n",
       "      <td>Franz Rottensteiner</td>\n",
       "      <td>franz rottensteiner born in waidmannsfeld lowe...</td>\n",
       "      <td>(0.04795574795574796, 0.3609547859547859)</td>\n",
       "      <td>[franz, rottensteiner, born, waidmannsfeld, lo...</td>\n",
       "    </tr>\n",
       "    <tr>\n",
       "      <th>4</th>\n",
       "      <td>&lt;http://dbpedia.org/resource/G-Enka&gt;</td>\n",
       "      <td>G-Enka</td>\n",
       "      <td>henry krvits born 30 december 1974 in tallinn ...</td>\n",
       "      <td>(0.34924242424242424, 0.5173821548821549)</td>\n",
       "      <td>[henry, krvits, born, 30, december, 1974, tall...</td>\n",
       "    </tr>\n",
       "    <tr>\n",
       "      <th>...</th>\n",
       "      <td>...</td>\n",
       "      <td>...</td>\n",
       "      <td>...</td>\n",
       "      <td>...</td>\n",
       "      <td>...</td>\n",
       "    </tr>\n",
       "    <tr>\n",
       "      <th>42781</th>\n",
       "      <td>&lt;http://dbpedia.org/resource/Motoaki_Takenouchi&gt;</td>\n",
       "      <td>Motoaki Takenouchi</td>\n",
       "      <td>motoaki takenouchi born july 8 1967 saitama pr...</td>\n",
       "      <td>(0.057575757575757565, 0.3984848484848485)</td>\n",
       "      <td>[motoaki, takenouchi, born, july, 8, 1967, sai...</td>\n",
       "    </tr>\n",
       "    <tr>\n",
       "      <th>42782</th>\n",
       "      <td>&lt;http://dbpedia.org/resource/Alan_Judge_(footb...</td>\n",
       "      <td>Alan Judge (footballer, born 1960)</td>\n",
       "      <td>alan graham judge born 14 may 1960 is a retire...</td>\n",
       "      <td>(0.017857142857142856, 0.2976190476190476)</td>\n",
       "      <td>[alan, graham, judge, born, 14, may, 1960, ret...</td>\n",
       "    </tr>\n",
       "    <tr>\n",
       "      <th>42783</th>\n",
       "      <td>&lt;http://dbpedia.org/resource/Eduardo_Lara&gt;</td>\n",
       "      <td>Eduardo Lara</td>\n",
       "      <td>eduardo lara lozano born 4 september 1959 in c...</td>\n",
       "      <td>(0.11477272727272729, 0.38181818181818183)</td>\n",
       "      <td>[eduardo, lara, lozano, born, 4, september, 19...</td>\n",
       "    </tr>\n",
       "    <tr>\n",
       "      <th>42784</th>\n",
       "      <td>&lt;http://dbpedia.org/resource/Tatiana_Faberg%C3...</td>\n",
       "      <td>Tatiana Faberg%C3%A9</td>\n",
       "      <td>tatiana faberg is an author and faberg scholar...</td>\n",
       "      <td>(0.1805785123966942, 0.5140495867768595)</td>\n",
       "      <td>[tatiana, faberg, author, faberg, scholar, swi...</td>\n",
       "    </tr>\n",
       "    <tr>\n",
       "      <th>42785</th>\n",
       "      <td>&lt;http://dbpedia.org/resource/Kenneth_Thomas&gt;</td>\n",
       "      <td>Kenneth Thomas</td>\n",
       "      <td>kenneth thomas born february 24 1938 was chief...</td>\n",
       "      <td>(0.05142292490118579, 0.34561264822134385)</td>\n",
       "      <td>[kenneth, thomas, born, february, 24, 1938, ch...</td>\n",
       "    </tr>\n",
       "  </tbody>\n",
       "</table>\n",
       "<p>42786 rows × 5 columns</p>\n",
       "</div>"
      ],
      "text/plain": [
       "                                                     URI  \\\n",
       "0            <http://dbpedia.org/resource/Digby_Morrell>   \n",
       "1           <http://dbpedia.org/resource/Alfred_J._Lewy>   \n",
       "2            <http://dbpedia.org/resource/Harpdog_Brown>   \n",
       "3      <http://dbpedia.org/resource/Franz_Rottensteiner>   \n",
       "4                   <http://dbpedia.org/resource/G-Enka>   \n",
       "...                                                  ...   \n",
       "42781   <http://dbpedia.org/resource/Motoaki_Takenouchi>   \n",
       "42782  <http://dbpedia.org/resource/Alan_Judge_(footb...   \n",
       "42783         <http://dbpedia.org/resource/Eduardo_Lara>   \n",
       "42784  <http://dbpedia.org/resource/Tatiana_Faberg%C3...   \n",
       "42785       <http://dbpedia.org/resource/Kenneth_Thomas>   \n",
       "\n",
       "                                     name  \\\n",
       "0                           Digby Morrell   \n",
       "1                          Alfred J. Lewy   \n",
       "2                           Harpdog Brown   \n",
       "3                     Franz Rottensteiner   \n",
       "4                                  G-Enka   \n",
       "...                                   ...   \n",
       "42781                  Motoaki Takenouchi   \n",
       "42782  Alan Judge (footballer, born 1960)   \n",
       "42783                        Eduardo Lara   \n",
       "42784                Tatiana Faberg%C3%A9   \n",
       "42785                      Kenneth Thomas   \n",
       "\n",
       "                                                    text  \\\n",
       "0      digby morrell born 10 october 1979 is a former...   \n",
       "1      alfred j lewy aka sandy lewy graduated from un...   \n",
       "2      harpdog brown is a singer and harmonica player...   \n",
       "3      franz rottensteiner born in waidmannsfeld lowe...   \n",
       "4      henry krvits born 30 december 1974 in tallinn ...   \n",
       "...                                                  ...   \n",
       "42781  motoaki takenouchi born july 8 1967 saitama pr...   \n",
       "42782  alan graham judge born 14 may 1960 is a retire...   \n",
       "42783  eduardo lara lozano born 4 september 1959 in c...   \n",
       "42784  tatiana faberg is an author and faberg scholar...   \n",
       "42785  kenneth thomas born february 24 1938 was chief...   \n",
       "\n",
       "                                          sentiment  \\\n",
       "0      (-0.041666666666666664, 0.17896825396825394)   \n",
       "1          (0.2186607142857143, 0.5276785714285714)   \n",
       "2         (0.24754901960784317, 0.3892156862745098)   \n",
       "3         (0.04795574795574796, 0.3609547859547859)   \n",
       "4         (0.34924242424242424, 0.5173821548821549)   \n",
       "...                                             ...   \n",
       "42781    (0.057575757575757565, 0.3984848484848485)   \n",
       "42782    (0.017857142857142856, 0.2976190476190476)   \n",
       "42783    (0.11477272727272729, 0.38181818181818183)   \n",
       "42784      (0.1805785123966942, 0.5140495867768595)   \n",
       "42785    (0.05142292490118579, 0.34561264822134385)   \n",
       "\n",
       "                                              clean_text  \n",
       "0      [digby, morrell, born, 10, october, 1979, form...  \n",
       "1      [alfred, j, lewy, aka, sandy, lewy, graduated,...  \n",
       "2      [harpdog, brown, singer, harmonica, player, ac...  \n",
       "3      [franz, rottensteiner, born, waidmannsfeld, lo...  \n",
       "4      [henry, krvits, born, 30, december, 1974, tall...  \n",
       "...                                                  ...  \n",
       "42781  [motoaki, takenouchi, born, july, 8, 1967, sai...  \n",
       "42782  [alan, graham, judge, born, 14, may, 1960, ret...  \n",
       "42783  [eduardo, lara, lozano, born, 4, september, 19...  \n",
       "42784  [tatiana, faberg, author, faberg, scholar, swi...  \n",
       "42785  [kenneth, thomas, born, february, 24, 1938, ch...  \n",
       "\n",
       "[42786 rows x 5 columns]"
      ]
     },
     "execution_count": 15,
     "metadata": {},
     "output_type": "execute_result"
    }
   ],
   "source": [
    "df"
   ]
  },
  {
   "cell_type": "code",
   "execution_count": 16,
   "metadata": {},
   "outputs": [],
   "source": [
    "text_data = [' '.join(doc) for doc in lemitized_data]\n",
    "\n",
    "my_vectorizer = CountVectorizer(stop_words='english')\n",
    "\n",
    "my_bow_vec = my_vectorizer.fit_transform(text_data)"
   ]
  },
  {
   "cell_type": "code",
   "execution_count": 17,
   "metadata": {},
   "outputs": [],
   "source": [
    "tf_idf_vec = TfidfTransformer()\n",
    "tf_idf_fit = tf_idf_vec.fit_transform(my_bow_vec)"
   ]
  },
  {
   "cell_type": "code",
   "execution_count": 19,
   "metadata": {},
   "outputs": [
    {
     "data": {
      "text/plain": [
       "(42786, 423599)"
      ]
     },
     "execution_count": 19,
     "metadata": {},
     "output_type": "execute_result"
    }
   ],
   "source": [
    "tf_idf_fit.shape"
   ]
  },
  {
   "cell_type": "code",
   "execution_count": 19,
   "metadata": {},
   "outputs": [],
   "source": [
    "nn = NearestNeighbors().fit(tf_idf_fit)"
   ]
  },
  {
   "cell_type": "code",
   "execution_count": 20,
   "metadata": {},
   "outputs": [
    {
     "data": {
      "text/html": [
       "<div>\n",
       "<style scoped>\n",
       "    .dataframe tbody tr th:only-of-type {\n",
       "        vertical-align: middle;\n",
       "    }\n",
       "\n",
       "    .dataframe tbody tr th {\n",
       "        vertical-align: top;\n",
       "    }\n",
       "\n",
       "    .dataframe thead th {\n",
       "        text-align: right;\n",
       "    }\n",
       "</style>\n",
       "<table border=\"1\" class=\"dataframe\">\n",
       "  <thead>\n",
       "    <tr style=\"text-align: right;\">\n",
       "      <th></th>\n",
       "      <th>URI</th>\n",
       "      <th>name</th>\n",
       "      <th>text</th>\n",
       "      <th>sentiment</th>\n",
       "      <th>clean_text</th>\n",
       "    </tr>\n",
       "  </thead>\n",
       "  <tbody>\n",
       "    <tr>\n",
       "      <th>39695</th>\n",
       "      <td>&lt;http://dbpedia.org/resource/Christian_Bale&gt;</td>\n",
       "      <td>Christian Bale</td>\n",
       "      <td>christian charles philip bale born 30 january ...</td>\n",
       "      <td>(0.18916666666666665, 0.2966666666666667)</td>\n",
       "      <td>[christian, charles, philip, bale, born, 30, j...</td>\n",
       "    </tr>\n",
       "  </tbody>\n",
       "</table>\n",
       "</div>"
      ],
      "text/plain": [
       "                                                URI            name  \\\n",
       "39695  <http://dbpedia.org/resource/Christian_Bale>  Christian Bale   \n",
       "\n",
       "                                                    text  \\\n",
       "39695  christian charles philip bale born 30 january ...   \n",
       "\n",
       "                                       sentiment  \\\n",
       "39695  (0.18916666666666665, 0.2966666666666667)   \n",
       "\n",
       "                                              clean_text  \n",
       "39695  [christian, charles, philip, bale, born, 30, j...  "
      ]
     },
     "execution_count": 20,
     "metadata": {},
     "output_type": "execute_result"
    }
   ],
   "source": [
    "df.loc[df['name'] == 'Christian Bale']"
   ]
  },
  {
   "cell_type": "code",
   "execution_count": 21,
   "metadata": {},
   "outputs": [
    {
     "data": {
      "text/plain": [
       "(1, 423599)"
      ]
     },
     "execution_count": 21,
     "metadata": {},
     "output_type": "execute_result"
    }
   ],
   "source": [
    "sent = tf_idf_fit[39695]\n",
    "sent.shape"
   ]
  },
  {
   "cell_type": "code",
   "execution_count": 22,
   "metadata": {},
   "outputs": [],
   "source": [
    "distances, indices = nn.kneighbors(\n",
    "    X = sent,\n",
    "    n_neighbors=11\n",
    ")\n"
   ]
  },
  {
   "cell_type": "code",
   "execution_count": 25,
   "metadata": {},
   "outputs": [],
   "source": [
    "distance_df = pd.DataFrame({'indices': indices.flatten(), 'distances': distances.flatten()})"
   ]
  },
  {
   "cell_type": "code",
   "execution_count": 27,
   "metadata": {},
   "outputs": [
    {
     "data": {
      "text/html": [
       "<div>\n",
       "<style scoped>\n",
       "    .dataframe tbody tr th:only-of-type {\n",
       "        vertical-align: middle;\n",
       "    }\n",
       "\n",
       "    .dataframe tbody tr th {\n",
       "        vertical-align: top;\n",
       "    }\n",
       "\n",
       "    .dataframe thead th {\n",
       "        text-align: right;\n",
       "    }\n",
       "</style>\n",
       "<table border=\"1\" class=\"dataframe\">\n",
       "  <thead>\n",
       "    <tr style=\"text-align: right;\">\n",
       "      <th></th>\n",
       "      <th>indices</th>\n",
       "      <th>distances</th>\n",
       "    </tr>\n",
       "  </thead>\n",
       "  <tbody>\n",
       "    <tr>\n",
       "      <th>0</th>\n",
       "      <td>39695</td>\n",
       "      <td>0.000000</td>\n",
       "    </tr>\n",
       "    <tr>\n",
       "      <th>1</th>\n",
       "      <td>28070</td>\n",
       "      <td>1.201615</td>\n",
       "    </tr>\n",
       "    <tr>\n",
       "      <th>2</th>\n",
       "      <td>5875</td>\n",
       "      <td>1.212054</td>\n",
       "    </tr>\n",
       "    <tr>\n",
       "      <th>3</th>\n",
       "      <td>4672</td>\n",
       "      <td>1.212396</td>\n",
       "    </tr>\n",
       "    <tr>\n",
       "      <th>4</th>\n",
       "      <td>11156</td>\n",
       "      <td>1.212695</td>\n",
       "    </tr>\n",
       "    <tr>\n",
       "      <th>5</th>\n",
       "      <td>39923</td>\n",
       "      <td>1.217291</td>\n",
       "    </tr>\n",
       "    <tr>\n",
       "      <th>6</th>\n",
       "      <td>34836</td>\n",
       "      <td>1.224546</td>\n",
       "    </tr>\n",
       "    <tr>\n",
       "      <th>7</th>\n",
       "      <td>13993</td>\n",
       "      <td>1.233194</td>\n",
       "    </tr>\n",
       "    <tr>\n",
       "      <th>8</th>\n",
       "      <td>29556</td>\n",
       "      <td>1.233400</td>\n",
       "    </tr>\n",
       "    <tr>\n",
       "      <th>9</th>\n",
       "      <td>38372</td>\n",
       "      <td>1.235514</td>\n",
       "    </tr>\n",
       "    <tr>\n",
       "      <th>10</th>\n",
       "      <td>12808</td>\n",
       "      <td>1.245207</td>\n",
       "    </tr>\n",
       "  </tbody>\n",
       "</table>\n",
       "</div>"
      ],
      "text/plain": [
       "    indices  distances\n",
       "0     39695   0.000000\n",
       "1     28070   1.201615\n",
       "2      5875   1.212054\n",
       "3      4672   1.212396\n",
       "4     11156   1.212695\n",
       "5     39923   1.217291\n",
       "6     34836   1.224546\n",
       "7     13993   1.233194\n",
       "8     29556   1.233400\n",
       "9     38372   1.235514\n",
       "10    12808   1.245207"
      ]
     },
     "execution_count": 27,
     "metadata": {},
     "output_type": "execute_result"
    }
   ],
   "source": [
    "distance_df"
   ]
  },
  {
   "cell_type": "code",
   "execution_count": 28,
   "metadata": {},
   "outputs": [],
   "source": [
    "name_locations = distance_df['indices'][0:11]"
   ]
  },
  {
   "cell_type": "code",
   "execution_count": 30,
   "metadata": {},
   "outputs": [
    {
     "data": {
      "text/html": [
       "<div>\n",
       "<style scoped>\n",
       "    .dataframe tbody tr th:only-of-type {\n",
       "        vertical-align: middle;\n",
       "    }\n",
       "\n",
       "    .dataframe tbody tr th {\n",
       "        vertical-align: top;\n",
       "    }\n",
       "\n",
       "    .dataframe thead th {\n",
       "        text-align: right;\n",
       "    }\n",
       "</style>\n",
       "<table border=\"1\" class=\"dataframe\">\n",
       "  <thead>\n",
       "    <tr style=\"text-align: right;\">\n",
       "      <th></th>\n",
       "      <th>URI</th>\n",
       "      <th>name</th>\n",
       "      <th>text</th>\n",
       "      <th>sentiment</th>\n",
       "      <th>clean_text</th>\n",
       "    </tr>\n",
       "  </thead>\n",
       "  <tbody>\n",
       "    <tr>\n",
       "      <th>39695</th>\n",
       "      <td>&lt;http://dbpedia.org/resource/Christian_Bale&gt;</td>\n",
       "      <td>Christian Bale</td>\n",
       "      <td>christian charles philip bale born 30 january ...</td>\n",
       "      <td>(0.18916666666666665, 0.2966666666666667)</td>\n",
       "      <td>[christian, charles, philip, bale, born, 30, j...</td>\n",
       "    </tr>\n",
       "    <tr>\n",
       "      <th>28070</th>\n",
       "      <td>&lt;http://dbpedia.org/resource/Amy_Adams&gt;</td>\n",
       "      <td>Amy Adams</td>\n",
       "      <td>amy lou adams born august 20 1974 is an americ...</td>\n",
       "      <td>(0.22387387387387386, 0.28175675675675677)</td>\n",
       "      <td>[amy, lou, adam, born, august, 20, 1974, ameri...</td>\n",
       "    </tr>\n",
       "    <tr>\n",
       "      <th>5875</th>\n",
       "      <td>&lt;http://dbpedia.org/resource/Michael_Keaton&gt;</td>\n",
       "      <td>Michael Keaton</td>\n",
       "      <td>michael john douglas born september 5 1951 bet...</td>\n",
       "      <td>(0.1886679292929293, 0.38437499999999997)</td>\n",
       "      <td>[michael, john, douglas, born, september, 5, 1...</td>\n",
       "    </tr>\n",
       "    <tr>\n",
       "      <th>4672</th>\n",
       "      <td>&lt;http://dbpedia.org/resource/Daniel_Day-Lewis&gt;</td>\n",
       "      <td>Daniel Day-Lewis</td>\n",
       "      <td>sir daniel michael blake daylewis kt born 29 a...</td>\n",
       "      <td>(0.2114583333333333, 0.3815972222222222)</td>\n",
       "      <td>[sir, daniel, michael, blake, daylewis, kt, bo...</td>\n",
       "    </tr>\n",
       "    <tr>\n",
       "      <th>11156</th>\n",
       "      <td>&lt;http://dbpedia.org/resource/Anne_Hathaway&gt;</td>\n",
       "      <td>Anne Hathaway</td>\n",
       "      <td>anne jacqueline hathaway born november 12 1982...</td>\n",
       "      <td>(0.25546536796536795, 0.35633116883116883)</td>\n",
       "      <td>[anne, jacqueline, hathaway, born, november, 1...</td>\n",
       "    </tr>\n",
       "    <tr>\n",
       "      <th>39923</th>\n",
       "      <td>&lt;http://dbpedia.org/resource/Jack_Nicholson&gt;</td>\n",
       "      <td>Jack Nicholson</td>\n",
       "      <td>john joseph jack nicholson born april 22 1937 ...</td>\n",
       "      <td>(0.23333333333333334, 0.4002604166666667)</td>\n",
       "      <td>[john, joseph, jack, nicholson, born, april, 2...</td>\n",
       "    </tr>\n",
       "    <tr>\n",
       "      <th>34836</th>\n",
       "      <td>&lt;http://dbpedia.org/resource/Michael_Caine&gt;</td>\n",
       "      <td>Michael Caine</td>\n",
       "      <td>sir michael caine cbe ken born maurice joseph ...</td>\n",
       "      <td>(0.20304054054054052, 0.32747747747747746)</td>\n",
       "      <td>[sir, michael, caine, cbe, ken, born, maurice,...</td>\n",
       "    </tr>\n",
       "    <tr>\n",
       "      <th>13993</th>\n",
       "      <td>&lt;http://dbpedia.org/resource/Ralph_Fiennes&gt;</td>\n",
       "      <td>Ralph Fiennes</td>\n",
       "      <td>ralph nathaniel twisletonwykehamfiennes ref fa...</td>\n",
       "      <td>(0.3046875, 0.3194444444444444)</td>\n",
       "      <td>[ralph, nathaniel, twisletonwykehamfiennes, re...</td>\n",
       "    </tr>\n",
       "    <tr>\n",
       "      <th>29556</th>\n",
       "      <td>&lt;http://dbpedia.org/resource/Felicity_Huffman&gt;</td>\n",
       "      <td>Felicity Huffman</td>\n",
       "      <td>felicity kendall huffman born december 9 1962 ...</td>\n",
       "      <td>(0.215, 0.40374999999999994)</td>\n",
       "      <td>[felicity, kendall, huffman, born, december, 9...</td>\n",
       "    </tr>\n",
       "    <tr>\n",
       "      <th>38372</th>\n",
       "      <td>&lt;http://dbpedia.org/resource/Liam_Neeson&gt;</td>\n",
       "      <td>Liam Neeson</td>\n",
       "      <td>liam john neeson obe born 7 june 1952 is an ir...</td>\n",
       "      <td>(0.4015625, 0.40156249999999993)</td>\n",
       "      <td>[liam, john, neeson, obe, born, 7, june, 1952,...</td>\n",
       "    </tr>\n",
       "    <tr>\n",
       "      <th>12808</th>\n",
       "      <td>&lt;http://dbpedia.org/resource/Tom_Hanks&gt;</td>\n",
       "      <td>Tom Hanks</td>\n",
       "      <td>thomas jeffrey tom hanks born july 9 1956 is a...</td>\n",
       "      <td>(0.2722222222222222, 0.34583333333333327)</td>\n",
       "      <td>[thomas, jeffrey, tom, hank, born, july, 9, 19...</td>\n",
       "    </tr>\n",
       "  </tbody>\n",
       "</table>\n",
       "</div>"
      ],
      "text/plain": [
       "                                                  URI              name  \\\n",
       "39695    <http://dbpedia.org/resource/Christian_Bale>    Christian Bale   \n",
       "28070         <http://dbpedia.org/resource/Amy_Adams>         Amy Adams   \n",
       "5875     <http://dbpedia.org/resource/Michael_Keaton>    Michael Keaton   \n",
       "4672   <http://dbpedia.org/resource/Daniel_Day-Lewis>  Daniel Day-Lewis   \n",
       "11156     <http://dbpedia.org/resource/Anne_Hathaway>     Anne Hathaway   \n",
       "39923    <http://dbpedia.org/resource/Jack_Nicholson>    Jack Nicholson   \n",
       "34836     <http://dbpedia.org/resource/Michael_Caine>     Michael Caine   \n",
       "13993     <http://dbpedia.org/resource/Ralph_Fiennes>     Ralph Fiennes   \n",
       "29556  <http://dbpedia.org/resource/Felicity_Huffman>  Felicity Huffman   \n",
       "38372       <http://dbpedia.org/resource/Liam_Neeson>       Liam Neeson   \n",
       "12808         <http://dbpedia.org/resource/Tom_Hanks>         Tom Hanks   \n",
       "\n",
       "                                                    text  \\\n",
       "39695  christian charles philip bale born 30 january ...   \n",
       "28070  amy lou adams born august 20 1974 is an americ...   \n",
       "5875   michael john douglas born september 5 1951 bet...   \n",
       "4672   sir daniel michael blake daylewis kt born 29 a...   \n",
       "11156  anne jacqueline hathaway born november 12 1982...   \n",
       "39923  john joseph jack nicholson born april 22 1937 ...   \n",
       "34836  sir michael caine cbe ken born maurice joseph ...   \n",
       "13993  ralph nathaniel twisletonwykehamfiennes ref fa...   \n",
       "29556  felicity kendall huffman born december 9 1962 ...   \n",
       "38372  liam john neeson obe born 7 june 1952 is an ir...   \n",
       "12808  thomas jeffrey tom hanks born july 9 1956 is a...   \n",
       "\n",
       "                                        sentiment  \\\n",
       "39695   (0.18916666666666665, 0.2966666666666667)   \n",
       "28070  (0.22387387387387386, 0.28175675675675677)   \n",
       "5875    (0.1886679292929293, 0.38437499999999997)   \n",
       "4672     (0.2114583333333333, 0.3815972222222222)   \n",
       "11156  (0.25546536796536795, 0.35633116883116883)   \n",
       "39923   (0.23333333333333334, 0.4002604166666667)   \n",
       "34836  (0.20304054054054052, 0.32747747747747746)   \n",
       "13993             (0.3046875, 0.3194444444444444)   \n",
       "29556                (0.215, 0.40374999999999994)   \n",
       "38372            (0.4015625, 0.40156249999999993)   \n",
       "12808   (0.2722222222222222, 0.34583333333333327)   \n",
       "\n",
       "                                              clean_text  \n",
       "39695  [christian, charles, philip, bale, born, 30, j...  \n",
       "28070  [amy, lou, adam, born, august, 20, 1974, ameri...  \n",
       "5875   [michael, john, douglas, born, september, 5, 1...  \n",
       "4672   [sir, daniel, michael, blake, daylewis, kt, bo...  \n",
       "11156  [anne, jacqueline, hathaway, born, november, 1...  \n",
       "39923  [john, joseph, jack, nicholson, born, april, 2...  \n",
       "34836  [sir, michael, caine, cbe, ken, born, maurice,...  \n",
       "13993  [ralph, nathaniel, twisletonwykehamfiennes, re...  \n",
       "29556  [felicity, kendall, huffman, born, december, 9...  \n",
       "38372  [liam, john, neeson, obe, born, 7, june, 1952,...  \n",
       "12808  [thomas, jeffrey, tom, hank, born, july, 9, 19...  "
      ]
     },
     "execution_count": 30,
     "metadata": {},
     "output_type": "execute_result"
    }
   ],
   "source": [
    "target=df.iloc[(list(name_locations))]\n",
    "target"
   ]
  },
  {
   "cell_type": "code",
   "execution_count": 31,
   "metadata": {},
   "outputs": [
    {
     "name": "stderr",
     "output_type": "stream",
     "text": [
      "/var/folders/nl/cvxy58ks2mg_jyg002l659xc0000gn/T/ipykernel_42883/1011115486.py:1: SettingWithCopyWarning: \n",
      "A value is trying to be set on a copy of a slice from a DataFrame.\n",
      "Try using .loc[row_indexer,col_indexer] = value instead\n",
      "\n",
      "See the caveats in the documentation: https://pandas.pydata.org/pandas-docs/stable/user_guide/indexing.html#returning-a-view-versus-a-copy\n",
      "  target['nn_distance_1']=distance_df['distances']\n"
     ]
    }
   ],
   "source": [
    "target['nn_distance_1']=distance_df['distances']"
   ]
  },
  {
   "cell_type": "markdown",
   "metadata": {},
   "source": [
    "Couple of fun ones:\n",
    "- 42475 Jim Carrey\n",
    "- 24428 Brad Pitt\n",
    "- 39695 Christian Bale"
   ]
  },
  {
   "cell_type": "code",
   "execution_count": 32,
   "metadata": {},
   "outputs": [
    {
     "name": "stdout",
     "output_type": "stream",
     "text": [
      "<class 'pandas.core.frame.DataFrame'>\n",
      "RangeIndex: 11 entries, 0 to 10\n",
      "Data columns (total 2 columns):\n",
      " #   Column     Non-Null Count  Dtype  \n",
      "---  ------     --------------  -----  \n",
      " 0   indices    11 non-null     int64  \n",
      " 1   distances  11 non-null     float64\n",
      "dtypes: float64(1), int64(1)\n",
      "memory usage: 308.0 bytes\n"
     ]
    }
   ],
   "source": [
    "#df.reset_index(inplace=True)\n",
    "distance_df.info()"
   ]
  },
  {
   "cell_type": "code",
   "execution_count": 33,
   "metadata": {},
   "outputs": [
    {
     "data": {
      "application/vnd.plotly.v1+json": {
       "config": {
        "plotlyServerURL": "https://plot.ly"
       },
       "data": [
        {
         "hovertemplate": "x=%{x}<br>y=%{y}<extra></extra>",
         "legendgroup": "",
         "line": {
          "color": "#636efa",
          "dash": "solid"
         },
         "marker": {
          "symbol": "circle"
         },
         "mode": "lines",
         "name": "",
         "orientation": "v",
         "showlegend": false,
         "type": "scatter",
         "x": [
          0,
          1,
          2,
          3,
          4,
          5,
          6,
          7,
          8,
          9,
          10
         ],
         "xaxis": "x",
         "y": [
          0,
          1.2016145969135708,
          1.2120541586963314,
          1.2123962414426634,
          1.2126948150150754,
          1.2172914747402028,
          1.2245462465489851,
          1.2331937616961988,
          1.2333997860112156,
          1.2355142148522735,
          1.2452069955388
         ],
         "yaxis": "y"
        }
       ],
       "layout": {
        "legend": {
         "tracegroupgap": 0
        },
        "margin": {
         "t": 60
        },
        "template": {
         "data": {
          "bar": [
           {
            "error_x": {
             "color": "#2a3f5f"
            },
            "error_y": {
             "color": "#2a3f5f"
            },
            "marker": {
             "line": {
              "color": "#E5ECF6",
              "width": 0.5
             },
             "pattern": {
              "fillmode": "overlay",
              "size": 10,
              "solidity": 0.2
             }
            },
            "type": "bar"
           }
          ],
          "barpolar": [
           {
            "marker": {
             "line": {
              "color": "#E5ECF6",
              "width": 0.5
             },
             "pattern": {
              "fillmode": "overlay",
              "size": 10,
              "solidity": 0.2
             }
            },
            "type": "barpolar"
           }
          ],
          "carpet": [
           {
            "aaxis": {
             "endlinecolor": "#2a3f5f",
             "gridcolor": "white",
             "linecolor": "white",
             "minorgridcolor": "white",
             "startlinecolor": "#2a3f5f"
            },
            "baxis": {
             "endlinecolor": "#2a3f5f",
             "gridcolor": "white",
             "linecolor": "white",
             "minorgridcolor": "white",
             "startlinecolor": "#2a3f5f"
            },
            "type": "carpet"
           }
          ],
          "choropleth": [
           {
            "colorbar": {
             "outlinewidth": 0,
             "ticks": ""
            },
            "type": "choropleth"
           }
          ],
          "contour": [
           {
            "colorbar": {
             "outlinewidth": 0,
             "ticks": ""
            },
            "colorscale": [
             [
              0,
              "#0d0887"
             ],
             [
              0.1111111111111111,
              "#46039f"
             ],
             [
              0.2222222222222222,
              "#7201a8"
             ],
             [
              0.3333333333333333,
              "#9c179e"
             ],
             [
              0.4444444444444444,
              "#bd3786"
             ],
             [
              0.5555555555555556,
              "#d8576b"
             ],
             [
              0.6666666666666666,
              "#ed7953"
             ],
             [
              0.7777777777777778,
              "#fb9f3a"
             ],
             [
              0.8888888888888888,
              "#fdca26"
             ],
             [
              1,
              "#f0f921"
             ]
            ],
            "type": "contour"
           }
          ],
          "contourcarpet": [
           {
            "colorbar": {
             "outlinewidth": 0,
             "ticks": ""
            },
            "type": "contourcarpet"
           }
          ],
          "heatmap": [
           {
            "colorbar": {
             "outlinewidth": 0,
             "ticks": ""
            },
            "colorscale": [
             [
              0,
              "#0d0887"
             ],
             [
              0.1111111111111111,
              "#46039f"
             ],
             [
              0.2222222222222222,
              "#7201a8"
             ],
             [
              0.3333333333333333,
              "#9c179e"
             ],
             [
              0.4444444444444444,
              "#bd3786"
             ],
             [
              0.5555555555555556,
              "#d8576b"
             ],
             [
              0.6666666666666666,
              "#ed7953"
             ],
             [
              0.7777777777777778,
              "#fb9f3a"
             ],
             [
              0.8888888888888888,
              "#fdca26"
             ],
             [
              1,
              "#f0f921"
             ]
            ],
            "type": "heatmap"
           }
          ],
          "heatmapgl": [
           {
            "colorbar": {
             "outlinewidth": 0,
             "ticks": ""
            },
            "colorscale": [
             [
              0,
              "#0d0887"
             ],
             [
              0.1111111111111111,
              "#46039f"
             ],
             [
              0.2222222222222222,
              "#7201a8"
             ],
             [
              0.3333333333333333,
              "#9c179e"
             ],
             [
              0.4444444444444444,
              "#bd3786"
             ],
             [
              0.5555555555555556,
              "#d8576b"
             ],
             [
              0.6666666666666666,
              "#ed7953"
             ],
             [
              0.7777777777777778,
              "#fb9f3a"
             ],
             [
              0.8888888888888888,
              "#fdca26"
             ],
             [
              1,
              "#f0f921"
             ]
            ],
            "type": "heatmapgl"
           }
          ],
          "histogram": [
           {
            "marker": {
             "pattern": {
              "fillmode": "overlay",
              "size": 10,
              "solidity": 0.2
             }
            },
            "type": "histogram"
           }
          ],
          "histogram2d": [
           {
            "colorbar": {
             "outlinewidth": 0,
             "ticks": ""
            },
            "colorscale": [
             [
              0,
              "#0d0887"
             ],
             [
              0.1111111111111111,
              "#46039f"
             ],
             [
              0.2222222222222222,
              "#7201a8"
             ],
             [
              0.3333333333333333,
              "#9c179e"
             ],
             [
              0.4444444444444444,
              "#bd3786"
             ],
             [
              0.5555555555555556,
              "#d8576b"
             ],
             [
              0.6666666666666666,
              "#ed7953"
             ],
             [
              0.7777777777777778,
              "#fb9f3a"
             ],
             [
              0.8888888888888888,
              "#fdca26"
             ],
             [
              1,
              "#f0f921"
             ]
            ],
            "type": "histogram2d"
           }
          ],
          "histogram2dcontour": [
           {
            "colorbar": {
             "outlinewidth": 0,
             "ticks": ""
            },
            "colorscale": [
             [
              0,
              "#0d0887"
             ],
             [
              0.1111111111111111,
              "#46039f"
             ],
             [
              0.2222222222222222,
              "#7201a8"
             ],
             [
              0.3333333333333333,
              "#9c179e"
             ],
             [
              0.4444444444444444,
              "#bd3786"
             ],
             [
              0.5555555555555556,
              "#d8576b"
             ],
             [
              0.6666666666666666,
              "#ed7953"
             ],
             [
              0.7777777777777778,
              "#fb9f3a"
             ],
             [
              0.8888888888888888,
              "#fdca26"
             ],
             [
              1,
              "#f0f921"
             ]
            ],
            "type": "histogram2dcontour"
           }
          ],
          "mesh3d": [
           {
            "colorbar": {
             "outlinewidth": 0,
             "ticks": ""
            },
            "type": "mesh3d"
           }
          ],
          "parcoords": [
           {
            "line": {
             "colorbar": {
              "outlinewidth": 0,
              "ticks": ""
             }
            },
            "type": "parcoords"
           }
          ],
          "pie": [
           {
            "automargin": true,
            "type": "pie"
           }
          ],
          "scatter": [
           {
            "fillpattern": {
             "fillmode": "overlay",
             "size": 10,
             "solidity": 0.2
            },
            "type": "scatter"
           }
          ],
          "scatter3d": [
           {
            "line": {
             "colorbar": {
              "outlinewidth": 0,
              "ticks": ""
             }
            },
            "marker": {
             "colorbar": {
              "outlinewidth": 0,
              "ticks": ""
             }
            },
            "type": "scatter3d"
           }
          ],
          "scattercarpet": [
           {
            "marker": {
             "colorbar": {
              "outlinewidth": 0,
              "ticks": ""
             }
            },
            "type": "scattercarpet"
           }
          ],
          "scattergeo": [
           {
            "marker": {
             "colorbar": {
              "outlinewidth": 0,
              "ticks": ""
             }
            },
            "type": "scattergeo"
           }
          ],
          "scattergl": [
           {
            "marker": {
             "colorbar": {
              "outlinewidth": 0,
              "ticks": ""
             }
            },
            "type": "scattergl"
           }
          ],
          "scattermapbox": [
           {
            "marker": {
             "colorbar": {
              "outlinewidth": 0,
              "ticks": ""
             }
            },
            "type": "scattermapbox"
           }
          ],
          "scatterpolar": [
           {
            "marker": {
             "colorbar": {
              "outlinewidth": 0,
              "ticks": ""
             }
            },
            "type": "scatterpolar"
           }
          ],
          "scatterpolargl": [
           {
            "marker": {
             "colorbar": {
              "outlinewidth": 0,
              "ticks": ""
             }
            },
            "type": "scatterpolargl"
           }
          ],
          "scatterternary": [
           {
            "marker": {
             "colorbar": {
              "outlinewidth": 0,
              "ticks": ""
             }
            },
            "type": "scatterternary"
           }
          ],
          "surface": [
           {
            "colorbar": {
             "outlinewidth": 0,
             "ticks": ""
            },
            "colorscale": [
             [
              0,
              "#0d0887"
             ],
             [
              0.1111111111111111,
              "#46039f"
             ],
             [
              0.2222222222222222,
              "#7201a8"
             ],
             [
              0.3333333333333333,
              "#9c179e"
             ],
             [
              0.4444444444444444,
              "#bd3786"
             ],
             [
              0.5555555555555556,
              "#d8576b"
             ],
             [
              0.6666666666666666,
              "#ed7953"
             ],
             [
              0.7777777777777778,
              "#fb9f3a"
             ],
             [
              0.8888888888888888,
              "#fdca26"
             ],
             [
              1,
              "#f0f921"
             ]
            ],
            "type": "surface"
           }
          ],
          "table": [
           {
            "cells": {
             "fill": {
              "color": "#EBF0F8"
             },
             "line": {
              "color": "white"
             }
            },
            "header": {
             "fill": {
              "color": "#C8D4E3"
             },
             "line": {
              "color": "white"
             }
            },
            "type": "table"
           }
          ]
         },
         "layout": {
          "annotationdefaults": {
           "arrowcolor": "#2a3f5f",
           "arrowhead": 0,
           "arrowwidth": 1
          },
          "autotypenumbers": "strict",
          "coloraxis": {
           "colorbar": {
            "outlinewidth": 0,
            "ticks": ""
           }
          },
          "colorscale": {
           "diverging": [
            [
             0,
             "#8e0152"
            ],
            [
             0.1,
             "#c51b7d"
            ],
            [
             0.2,
             "#de77ae"
            ],
            [
             0.3,
             "#f1b6da"
            ],
            [
             0.4,
             "#fde0ef"
            ],
            [
             0.5,
             "#f7f7f7"
            ],
            [
             0.6,
             "#e6f5d0"
            ],
            [
             0.7,
             "#b8e186"
            ],
            [
             0.8,
             "#7fbc41"
            ],
            [
             0.9,
             "#4d9221"
            ],
            [
             1,
             "#276419"
            ]
           ],
           "sequential": [
            [
             0,
             "#0d0887"
            ],
            [
             0.1111111111111111,
             "#46039f"
            ],
            [
             0.2222222222222222,
             "#7201a8"
            ],
            [
             0.3333333333333333,
             "#9c179e"
            ],
            [
             0.4444444444444444,
             "#bd3786"
            ],
            [
             0.5555555555555556,
             "#d8576b"
            ],
            [
             0.6666666666666666,
             "#ed7953"
            ],
            [
             0.7777777777777778,
             "#fb9f3a"
            ],
            [
             0.8888888888888888,
             "#fdca26"
            ],
            [
             1,
             "#f0f921"
            ]
           ],
           "sequentialminus": [
            [
             0,
             "#0d0887"
            ],
            [
             0.1111111111111111,
             "#46039f"
            ],
            [
             0.2222222222222222,
             "#7201a8"
            ],
            [
             0.3333333333333333,
             "#9c179e"
            ],
            [
             0.4444444444444444,
             "#bd3786"
            ],
            [
             0.5555555555555556,
             "#d8576b"
            ],
            [
             0.6666666666666666,
             "#ed7953"
            ],
            [
             0.7777777777777778,
             "#fb9f3a"
            ],
            [
             0.8888888888888888,
             "#fdca26"
            ],
            [
             1,
             "#f0f921"
            ]
           ]
          },
          "colorway": [
           "#636efa",
           "#EF553B",
           "#00cc96",
           "#ab63fa",
           "#FFA15A",
           "#19d3f3",
           "#FF6692",
           "#B6E880",
           "#FF97FF",
           "#FECB52"
          ],
          "font": {
           "color": "#2a3f5f"
          },
          "geo": {
           "bgcolor": "white",
           "lakecolor": "white",
           "landcolor": "#E5ECF6",
           "showlakes": true,
           "showland": true,
           "subunitcolor": "white"
          },
          "hoverlabel": {
           "align": "left"
          },
          "hovermode": "closest",
          "mapbox": {
           "style": "light"
          },
          "paper_bgcolor": "white",
          "plot_bgcolor": "#E5ECF6",
          "polar": {
           "angularaxis": {
            "gridcolor": "white",
            "linecolor": "white",
            "ticks": ""
           },
           "bgcolor": "#E5ECF6",
           "radialaxis": {
            "gridcolor": "white",
            "linecolor": "white",
            "ticks": ""
           }
          },
          "scene": {
           "xaxis": {
            "backgroundcolor": "#E5ECF6",
            "gridcolor": "white",
            "gridwidth": 2,
            "linecolor": "white",
            "showbackground": true,
            "ticks": "",
            "zerolinecolor": "white"
           },
           "yaxis": {
            "backgroundcolor": "#E5ECF6",
            "gridcolor": "white",
            "gridwidth": 2,
            "linecolor": "white",
            "showbackground": true,
            "ticks": "",
            "zerolinecolor": "white"
           },
           "zaxis": {
            "backgroundcolor": "#E5ECF6",
            "gridcolor": "white",
            "gridwidth": 2,
            "linecolor": "white",
            "showbackground": true,
            "ticks": "",
            "zerolinecolor": "white"
           }
          },
          "shapedefaults": {
           "line": {
            "color": "#2a3f5f"
           }
          },
          "ternary": {
           "aaxis": {
            "gridcolor": "white",
            "linecolor": "white",
            "ticks": ""
           },
           "baxis": {
            "gridcolor": "white",
            "linecolor": "white",
            "ticks": ""
           },
           "bgcolor": "#E5ECF6",
           "caxis": {
            "gridcolor": "white",
            "linecolor": "white",
            "ticks": ""
           }
          },
          "title": {
           "x": 0.05
          },
          "xaxis": {
           "automargin": true,
           "gridcolor": "white",
           "linecolor": "white",
           "ticks": "",
           "title": {
            "standoff": 15
           },
           "zerolinecolor": "white",
           "zerolinewidth": 2
          },
          "yaxis": {
           "automargin": true,
           "gridcolor": "white",
           "linecolor": "white",
           "ticks": "",
           "title": {
            "standoff": 15
           },
           "zerolinecolor": "white",
           "zerolinewidth": 2
          }
         }
        },
        "title": {
         "text": "Nearest Neighbors of Wikipedia Dataset"
        },
        "xaxis": {
         "anchor": "y",
         "domain": [
          0,
          1
         ],
         "title": {
          "text": "50 Closest Neighbors to Christian Bale"
         }
        },
        "yaxis": {
         "anchor": "x",
         "domain": [
          0,
          1
         ],
         "title": {
          "text": "Distance"
         }
        }
       }
      }
     },
     "metadata": {},
     "output_type": "display_data"
    }
   ],
   "source": [
    "fig = px.line(\n",
    "    \n",
    "    x = None,\n",
    "    y = distance_df['distances'])\n",
    "fig.update_layout(\n",
    "    title=\"Nearest Neighbors of Wikipedia Dataset\",\n",
    "    xaxis_title='50 Closest Neighbors to Christian Bale',\n",
    "    yaxis_title='Distance'\n",
    "    )\n",
    "fig.show()"
   ]
  },
  {
   "cell_type": "markdown",
   "metadata": {
    "id": "SyoC6PWeN9un"
   },
   "source": [
    "### Part 2)\n",
    "\n"
   ]
  },
  {
   "cell_type": "code",
   "execution_count": 34,
   "metadata": {},
   "outputs": [],
   "source": [
    "%%capture\n",
    "!pip3 install wikipedia-api"
   ]
  },
  {
   "cell_type": "code",
   "execution_count": 35,
   "metadata": {},
   "outputs": [],
   "source": [
    "import wikipediaapi"
   ]
  },
  {
   "cell_type": "code",
   "execution_count": 36,
   "metadata": {},
   "outputs": [],
   "source": [
    "def get_wiki_text(person_name):\n",
    "    wikip = wikipediaapi.Wikipedia(user_agent = 'foobar')\n",
    "    page = wikip.page(person_name)\n",
    "    if page.exists():\n",
    "        return page.text\n",
    "    else:\n",
    "        return None"
   ]
  },
  {
   "cell_type": "code",
   "execution_count": 37,
   "metadata": {},
   "outputs": [
    {
     "name": "stdout",
     "output_type": "stream",
     "text": [
      "Christian Charles Philip Bale (born 30 January 1974) is an English actor. Known for his versatility and physical transformations for his roles, he has been a leading man in films of several genres. He has received various accolades, including an Academy Award and two Golden Globe Awards. Forbes magazine ranked him as one of the highest-paid actors in 2014.\n",
      "Born in Wales to English parents, Bale had his breakthrough role at age 13 in Steven Spielberg's 1987 war film Empire of the Sun. After more than a decade of performing in leading and supporting roles in films, he gained wider recognition for his portrayals of serial killer Patrick Bateman in the black comedy American Psycho (2000) and the title role in the psychological thriller The Machinist (2004). In 2005, he played superhero Batman in Batman Begins and again in The Dark Knight (2008) and The Dark Knight Rises (2012), garnering acclaim for his performance in the trilogy, which is one of the highest-grossing film franchises.\n",
      "Bale continued in starring roles in a range of films outside his work as Batman, including the period drama The Prestige (2006), the action film Terminator Salvation (2009), the crime drama Public Enemies (2009), the epic film Exodus: Gods and Kings (2014) and the superhero film Thor: Love and Thunder (2022). For his portrayal of boxer Dicky Eklund in the 2010 biographical film The Fighter, he won an Academy Award and a Golden Globe Award. Further Academy Award and Golden Globe Award nominations came for his work in the black comedy American Hustle (2013) and the biographical dramedies The Big Short (2015) and Vice (2018). His performances as politician Dick Cheney in Vice and race car driver Ken Miles in the sports drama Ford v Ferrari (2019) earned him a second win and a fifth nomination respectively at the Golden Globe Awards.\n",
      "\n",
      "Early life\n",
      "Christian Charles Philip Bale was born on 30 January 1974 in Haverfordwest, Pembrokeshire, to English parents—Jenny James, a circus performer, and David Bale, an entrepreneur and activist. Bale has remarked, \"I was born in Wales but I'm not Welsh—I'm English.\" He has two elder sisters, Sharon and Louise, and a half-sister from his father's first marriage, Erin. One of his grandfathers was a comedian while the other was a stand-in for John Wayne. Bale and his family left Wales when he was two years old, and after living in Portugal and Oxfordshire, England, they settled in Bournemouth. As well as saying that the family had lived in 15 towns by the time he was 15, Bale described the frequent relocation as being driven by \"necessity rather than choice\" and acknowledged that it had a major influence on his career selection. He attended Bournemouth School, later saying he left school at age 16. Bale's parents divorced in 1991, and at age 17, he moved with his sister Louise and their father to Los Angeles.\n",
      "Bale trained in ballet as a child. His first acting role came at eight years old in a commercial for the fabric softener Lenor. He also appeared in a Pac-Man cereal commercial. After his sister was cast in a West End musical, Bale considered taking up acting professionally. He said later he did not find acting appealing but pursued it at the request of those around him because he had no reason not to do so. After participating in school plays, Bale performed opposite Rowan Atkinson in the play The Nerd in the West End in 1984. He did not undergo any formal acting training.\n",
      "\n",
      "Career\n",
      "Early roles and breakthrough (1986–1999)\n",
      "After deciding to become an actor at age ten, Bale secured a minor role in the 1986 television film Anastasia: The Mystery of Anna. Its star, Amy Irving, who was married to director Steven Spielberg, subsequently recommended Bale for Spielberg's 1987 film Empire of the Sun. At age 13, Bale was chosen from over 4,000 actors to portray a British boy in a World War II Japanese internment camp. For the film, he spoke with an upper-class cadence without the help of a dialogue coach. The role propelled Bale to fame, and his work earned him acclaim and the inaugural Best Performance by a Juvenile Actor Award from the National Board of Review of Motion Pictures. Earlier in the same year, he starred in the fantasy film Mio in the Land of Faraway, based on the novel Mio, My Son by Astrid Lindgren. The fame from Empire of the Sun led to Bale being bullied in school and finding the pressures of working as an actor unbearable. He grew distrustful of the acting profession because of media attention but said that he felt obligated at a young age to continue to act for financial reasons. Around this time, actor and filmmaker Kenneth Branagh persuaded Bale to appear in his film Henry V in 1989, which drew him back into acting. The following year, Bale played Jim Hawkins opposite Charlton Heston as Long John Silver in Treasure Island, a television film adaptation of Robert Louis Stevenson's book of the same name.\n",
      "Bale starred in the 1992 Disney musical film Newsies, which was unsuccessful both at the box office and with critics. Rebecca Milzoff of Vulture revisited the film in 2012 and found the cracks in Bale's voice during his performance of the song \"Santa Fe\" charming and apt even though he was not a great singer. In 1993, he appeared in Swing Kids, a film about teenagers who secretly listen to forbidden jazz during the rise of Nazi Germany. In Gillian Armstrong's 1994 film Little Women, Bale played Theodore \"Laurie\" Laurence following a recommendation from Winona Ryder, who starred as Jo March. The film achieved critical and commercial success. Of Bale's performance, Ryder said he captured the complex nature of the role. He next voiced Thomas, a young compatriot of Captain John Smith, in the 1995 Disney animated film Pocahontas, which attracted a mixed critical reception. Bale played a small part in the 1996 film The Portrait of a Lady, based on the Henry James novel of the same name, and appeared in the 1998 musical film Velvet Goldmine, set in the 1970s during the glam rock era. In 1999, he was part of an ensemble cast, which included Kevin Kline and Michelle Pfeiffer, portraying Demetrius in A Midsummer Night's Dream, a film adaptation of William Shakespeare's play of the same name.\n",
      "\n",
      "Rise to prominence and commercial decline (2000–2004)\n",
      "Bale played Patrick Bateman, an investment banker and serial killer, in American Psycho, a film adaptation of Bret Easton Ellis's novel of the same name, directed by Mary Harron. While Harron had chosen Bale for the part, the film's production and distribution company, Lionsgate, originally disagreed and hired Leonardo DiCaprio to play Bateman with Oliver Stone to direct. Bale and Harron were brought back after DiCaprio and Stone had left the project. Bale exercised and tanned himself for months to achieve Bateman's chiseled physique and had his teeth capped to assimilate to the character's narcissistic nature. American Psycho premiered at the 2000 Sundance Film Festival. Harron said critic Roger Ebert named it the most hated film at the event. Of Bale's work, Ebert wrote he \"is heroic in the way he allows the character to leap joyfully into despicability; there is no instinct for self-preservation here, and that is one mark of a good actor.\" The film was released in April 2000, becoming a commercial and critical success and later developing a cult following; the role established Bale as a leading man.\n",
      "In the four years that followed American Psycho, Bale's career experienced critical and commercial failure. He next played a villainous real estate heir in John Singleton's action film Shaft and appeared in John Madden's film adaptation of the Louis de Bernières novel Captain Corelli's Mandolin as Mandras, a Greek fisherman who vies with Nicolas Cage's title character for the affections of Pelagia, played by Penélope Cruz. Bale said he found it refreshing to play Mandras, who is emotionally humane, after working on American Psycho and Shaft. In 2002, he appeared in three films: Laurel Canyon, Reign of Fire and Equilibrium. Reviewing Laurel Canyon for Entertainment Weekly, Lisa Schwarzbaum called Bale's performance \"fussy\". After having reservations about joining the post-apocalyptic Reign of Fire, which involved computer-generated imagery, Bale professed his enjoyment of making films that could go awry and cited director Rob Bowman as a reason for his involvement. In Equilibrium, he plays a police officer in a futuristic society and performs gun kata, a fictional martial art that incorporates gunfighting. IGN's Jeff Otto characterised Reign of Fire as \"poorly received\" and Equilibrium as \"highly underrated\", while The Independent's Stephen Applebaum described the two films along with Shaft and Captain Corelli's Mandolin as \"mediocre fare\".\n",
      "Bale starred as the insomnia-ridden, emotionally dysfunctional title character in the psychological thriller The Machinist. To prepare for the role, he initially only smoked cigarettes and drank whiskey. His diet later expanded to include black coffee, an apple and a can of tuna per day. Bale lost 63 pounds (29 kg), weighing 121 pounds (55 kg) to play the character, who was written in the script as \"a walking skeleton\". His weight loss prompted comparisons with Robert De Niro's weight gain in preparation to play Jake LaMotta in the 1980 film Raging Bull. Describing his transformation as mentally calming, Bale claimed he had stopped working for a while because he did not come upon scripts that piqued his interest and that the film's script drew him to lose weight for the part. The Machinist was released in October 2004; it performed poorly at the box office. Roger Moore of the Orlando Sentinel regarded it as one of the best films of the year, and Todd McCarthy of Variety wrote that Bale's \"haunted, aggressive and finally wrenching performance\" gave it a \"strong anchor\".\n",
      "\n",
      "Batman and dramatic roles (2005–2008)\n",
      "Bale portrayed American billionaire Bruce Wayne and his superhero alias Batman in Christopher Nolan's Batman Begins, a reboot of the Batman film series. Nolan cast Bale, who was still fairly unknown at the time, because Bale had \"exactly the balance of darkness and light\" Nolan sought. For the part, Bale regained the weight he lost for The Machinist and built muscle, weighing 220 pounds (100 kg). He trained in weapons, Wing Chun Kung Fu and the Keysi Fighting Method. Acknowledging the story's peculiar circumstances involving a character \"who thinks he can run around in a batsuit in the middle of the night\", Bale said he and Nolan had deliberately approached it with \"as realistic a motivation as possible\", referencing Wayne's parents' murder. Bale voiced Wayne and Batman differently. He employed gravelly tone qualities for Batman, which Nolan believed reinforced the character's visual appearance. Batman Begins was released in the US in June 2005. Tim Grierson and Will Leitch of Vulture complimented Bale's \"sensitive, intelligent portrayal of a spoiled, wayward Bruce who finally grows up (and fights crime).\" The performance earned Bale the MTV Movie Award for Best Hero.\n",
      "In the same year, Bale voiced the titular Howl, a wizard, in the English-language dub of Hayao Miyazaki's Howl's Moving Castle, a Japanese animated film adaptation of Diana Wynne Jones's novel of the same name. He committed himself to voice the role after watching Miyazaki's animated film Spirited Away. Later that year, he starred as a US war veteran who deals with post-traumatic stress disorder in the David Ayer-helmed crime drama Harsh Times, which premiered at the Toronto International Film Festival. He portrayed colonist John Rolfe in The New World, a historical drama film inspired by the stories of Pocahontas, directed by Terrence Malick. The film was released on 25 December 2005. The following year saw the premiere of Rescue Dawn, by German filmmaker Werner Herzog, in which Bale portrayed US fighter pilot Dieter Dengler, who fights for his life after being shot down while on a mission during the Vietnam War. After the two worked together, Herzog stated that he had considered Bale to be among his generation's greatest talents long before he played Batman. The Austin Chronicle's Marjorie Baumgarten viewed Bale's work as a continuance of his \"masterful command of yet another American personality type.\"\n",
      "For the 2006 film The Prestige, Bale reunited with Batman Begins director Nolan, who said that Bale was cast after offering himself for the part. It is based on the novel of the same name by Christopher Priest about a rivalry between two Victorian era magicians, whom Bale and Hugh Jackman play in the film. While it attracted acclaim from critics, the film performed more modestly during its run in theatres, earning $110 million against a $40 million budget. In his review for The New York Times, A. O. Scott highlighted Bale's \"fierce inwardness\" and called his performance \"something to savor\". Bale next starred in the 2007 drama films I'm Not There, portraying two incarnations of singer-songwriter Bob Dylan, and in 3:10 to Yuma, playing a justice-seeking cattleman. He characterised his Dylan incarnations as \"two men on a real quest for truth\" and attributed his interest in 3:10 to Yuma to his affinity for films where he gets to \"just be dirty and crawling in the mud\". Bale reprised the role of Batman in Nolan's Batman Begins sequel The Dark Knight, which received acclaim and became the fourth film to gross more than $1 billion worldwide upon its July 2008 release. He did many of his own stunts, including one that involved standing on the roof of the Sears Tower in Chicago. The Dark Knight has been regarded by critics as the best superhero film.\n",
      "\n",
      "The Dark Knight trilogy completion and acclaim (2009–2012)\n",
      "In February 2008, Warner Bros. announced that Bale would star as rebellion leader John Connor in the post-apocalyptic action film Terminator Salvation, directed by McG, who cited Bale as \"the most credible actor of his generation\". In February 2009, an audio recording of a tirade on the film's set in July 2008 involving Bale was released. It captured him directing profanities towards and threatening to attack the film's cinematographer Shane Hurlbut, who walked onto the set during the filming of a scene acted by Bale and Bryce Dallas Howard, and culminated in Bale threatening to quit the film if Hurlbut was not fired. Several colleagues in the film industry defended Bale, attributing the incident to his dedication to acting. Bale publicly apologised in February 2009, calling the outburst \"inexcusable\" and his behaviour \"way out of order\" and affirming to have made amends with Hurlbut. Terminator Salvation was released in May 2009 to tepid reviews. Claudia Puig of USA Today considered Bale's work to be \"surprisingly one-dimensional\", while The Age's Jake Wilson wrote he gave one of his least compelling performances. Bale later admitted he knew during production that the film would not revitalise the Terminator franchise as he had wished. He asserted he would not work with McG again.\n",
      "\n",
      "Bale portrayed FBI agent Melvin Purvis opposite Johnny Depp as gangster John Dillinger in Michael Mann's crime drama Public Enemies. Released in July 2009, it earned critical praise and had a commercially successful theatrical run. Dan Zak of The Washington Post was unsatisfied with the casting of Bale and Depp, believing their characters' rivalry lacked electricity, while The New Republic's Christopher Orr found Bale's \"characteristically closed off\" performance \"nonetheless effective\". The following year, Bale starred in the role of Dicky Eklund, a professional boxer whose career has ended due to his drug addiction, in David O. Russell's drama film The Fighter. It chronicles the relationship between Eklund and his brother and boxing trainee, Micky Ward, played by Mark Wahlberg. To balance Eklund's tragic condition, Bale incorporated humor in his characterisation. The portrayal, for which he lost 30 pounds (14 kg), was acclaimed, the San Francisco Chronicle's Mick LaSalle describing it as \"shrewdly observed, physically precise and psychologically acute\". Bale won the Academy Award for Best Supporting Actor and the Golden Globe Award for Best Supporting Actor – Motion Picture for his performance. In 2011, he starred in Zhang Yimou's historical drama film The Flowers of War, which was the highest-grossing Chinese film of the year. Critics described it as \"nationalistic\", \"anti-Japanese\" and \"too long, too melodramatic, too lightweight\".\n",
      "Bale played Batman again under Christopher Nolan's direction in the sequel The Dark Knight Rises, released in July 2012. He described Batman in the film as a remorseful recluse in poor mental and physical health, who has surrendered following the events of The Dark Knight. Following the shooting at a midnight showing of the film in Aurora, Colorado, Bale and his wife visited survivors, doctors and first responders at The Medical Center of Aurora as well as a memorial to victims. The Dark Knight Rises was the 11th film to gross more than $1 billion worldwide, surpassing The Dark Knight. Nolan's Batman film series, dubbed the Dark Knight trilogy, is one of the highest-grossing film franchises. It is also regarded as one of the best comic book film franchises. Bale's performance in the three films garnered universal acclaim, with The Guardian, The Indian Express, MovieWeb, NME and a poll conducted by the Radio Times ranking it as the best portrayal of Batman on film. Bale later revealed his dissatisfaction with his work throughout the trilogy, saying he \"didn't quite nail\" his part and that he \"didn't quite manage\" what he had hoped he would as Batman.\n",
      "\n",
      "Continued critical success (2013–2018)\n",
      "In 2013, Bale played a steel mill worker in Scott Cooper's thriller Out of the Furnace. Cooper rewrote the film's script with Bale in mind before the two even met and would not proceed with the project without the actor's involvement. Critics commended the film and deemed it an excellent beginning of the next phase in Bale's career after playing Batman, with Kristopher Tapley of Variety noting his work in the film was his best. That same year, he starred in American Hustle, which reunited him with David O. Russell after their work on The Fighter. To play con artist Irving Rosenfeld, Bale studied footage of interviews with real-life con artist Mel Weinberg, who served as inspiration for the character. He gained 43 pounds (20 kg), shaved part of his head and adopted a slouched posture, which reduced his height by 3 inches (7.6 cm) and caused him to suffer a herniated disc. Russell indicated that Robert De Niro, who appeared in an uncredited role, did not recognise Bale when they were first introduced. Writing for the New York Daily News, Joe Neumaier found Bale's performance to be \"sad, funny and riveting\". He was nominated for an Academy Award and a Golden Globe Award for his work.\n",
      "Bale portrayed Moses in Ridley Scott's epic film Exodus: Gods and Kings. Released in December 2014, the film faced accusations of whitewashing for the casting of Caucasian actors in Middle Eastern roles. Scott justified casting decisions citing financing needs, Bale stating that Scott had been forthright in getting the film made. Its critical response varied between negative and mixed, and the St. Louis Post-Dispatch's Joe Williams called Bale's performance in the film the most apathetic of his career. Bale appeared in Terrence Malick's drama Knight of Cups, which The Atlantic critic David Sims dubbed a \"noble failure\". During its premiere at the 65th Berlin International Film Festival in February 2015, he said he filmed the project without having learned any dialogue and that Malick had only given him a character description. Later that year, he starred as Michael Burry, an antisocial hedge fund manager, in Adam McKay's The Big Short, a biographical comedy-drama film about the financial crisis of 2007–08. He used an ocular prosthesis in the film. The Wall Street Journal's Joe Morgenstern found his portrayal \"scarily hilarious—or in one-liners and quick takes, deftly edited\". The role earned Bale Academy Award and Golden Globe Award nominations for Best Supporting Actor.\n",
      "In the 2016 historical drama The Promise, set during the Armenian Genocide, he played an American journalist who becomes involved in a love triangle with a woman, played by Charlotte Le Bon, and an Armenian medical student, played by Oscar Isaac. Critics disapproved of the film, which accrued a $102 million loss. Reviewing the film for The New York Times, Jeannette Catsoulis wrote that Bale appeared \"muffled and indistinct\". In Cooper's 2017 film Hostiles, Bale starred as a US Army officer escorting a gravely ill Cheyenne war chief and his family back to their home in Montana. He calls the film \"a western with brutal, modern-day resonance\" and his character \"a bigoted and hate-filled man\". Bale learned the Cheyenne language while working on the film. Empire critic Dan Jolin considered his performance striking and one of the strongest of his career. In 2018, Bale voiced Bagheera in the adventure film Mowgli: Legend of the Jungle. Rolling Stone's David Fear wrote that his voice work and that of Andy Serkis, who directed the film, \"bring the soul as well as sound and fury\".\n",
      "\n",
      "Recent career (2018–present)\n",
      "For the 2018 biographical comedy drama Vice, written and directed by Adam McKay, Bale underwent a major body transformation once again, as he gained over 40 pounds (18 kg) and shaved his head to portray US Vice President Dick Cheney. He described Cheney, who is reckoned the most influential and loathed vice president in US history, as \"quiet and secretive\". The film reunited Bale with Amy Adams, with whom he had co-starred in The Fighter and American Hustle. It received positive reviews, and The Guardian's Peter Bradshaw commended Bale's \"terrifically and in fact rather scarily plausible\" Cheney impersonation. Lauded by critics, the performance won Bale the Golden Globe Award for Best Actor – Motion Picture Musical or Comedy and garnered him an Academy Award nomination. During his acceptance speech at the 76th Golden Globe Awards, Bale thanked Satan for inspiring his Cheney portrayal, which elicited a response from Cheney's daughter and US Representative Liz Cheney, who stated that Bale ruined his opportunity to play \"a real superhero\".\n",
      "Bale portrayed sports car racing driver Ken Miles in the 2019 sports drama Ford v Ferrari, for which he lost 70 pounds (32 kg) after playing Cheney. Directed by James Mangold, the film follows Miles and automotive designer Carroll Shelby, played by Matt Damon, in events surrounding the 1966 24 Hours of Le Mans race. The role earned Bale a fifth Golden Globe Award nomination. While promoting the film, he said he would no longer go through weight fluctuations for roles.\n",
      "Bale played Gorr the God Butcher, a villain, in the Marvel Cinematic Universe superhero film Thor: Love and Thunder, which was released in July 2022. He cited a character in the music video for the Aphex Twin song \"Come to Daddy\" as an inspiration for his characterisation of Gorr. Bale's portrayal drew praise from critics, who deemed it \"grounded and non-campy\". He produced and appeared in David O. Russell's period film Amsterdam and Scott Cooper's thriller The Pale Blue Eye, reuniting with both directors for the third time. Amsterdam was released in October 2022, receiving dire reviews and failing at the box office. The Pale Blue Eye, adapted from the novel of the same name by Louis Bayard, was released in December 2022, receiving mixed reviews from critics. With his involvement in the 2023 Japanese animated film The Boy and the Heron, Bale voiced a character in an English-language dub of a film by Hayao Miyazaki for the second time.\n",
      "Bale will next play Frankenstein's monster in Maggie Gyllenhaal's fantasy period film The Bride! It is scheduled for release in 2025.\n",
      "\n",
      "Artistry and public image\n",
      "Bale is known for his exhaustive dedication to the weight fluctuations that his parts demand as well as \"the intensity with which he completely inhabits his roles\", with The Washington Post's Ann Hornaday rating him among the most physically gifted actors of his generation. Max O'Connell of RogerEbert.com deemed Bale's commitment to altering his physical appearance \"an anchoring facet to a depiction of obsession\" in his performances, while the Los Angeles Times's Hugh Hart likened the urgency that drives Bale's acting style to method acting, adding that it \"convincingly animates even his most extreme physical transformations.\" Bale has said that he does not practise method acting and that he does not use a particular technique. He named Rowan Atkinson as his template as an actor and added that he was mesmerised by him when they worked together. He also studied the work of Gary Oldman, crediting him as the reason for his pursuit of acting.\n",
      "Bale has been recognised for his versatility; Martha Ross of The Mercury News named him one of his generation's most versatile actors. Known to be very private about his personal life, Bale has said that his objective was to embody characters without showing any aspect of himself. He explained that \"letting people know who you are\" does not help create different characters, viewing anonymity as \"what's giving you the ability to play those characters\". During interviews to promote films in which he puts on an accent, Bale would continue speaking in the given accent. Bale has also been noted for portraying roles with an American accent, with The Atlantic's Joe Reid listing him among those who \"work least in their native accents\"; in real life, Bale speaks in an \"emphatic, non-posh\" English accent.\n",
      "Bale was ranked at number eight on Forbes magazine's list of the highest-paid actors of 2014, earning $35 million. He has been described as a sex symbol.\n",
      "\n",
      "Personal life\n",
      "Bale has lived in Los Angeles since the 1990s. He holds US citizenship. Bale married Sandra \"Sibi\" Blažić, a former American  model of Serbian descent, in Las Vegas on 29 January 2000. They have a daughter and a son. In 2000, Bale became feminist Gloria Steinem's stepson following her marriage to his father, who died in 2003 of brain lymphoma.\n",
      "Bale became a vegetarian at seven years old but in 2009 said he was \"in and out of the vegetarianism now\". He had stopped eating red meat after reading the children's book Charlotte's Web. An animal rights activist, he supports the organisations Greenpeace, the World Wide Fund for Nature, the Doris Day Animal League, the Dian Fossey Gorilla Fund International and Redwings Horse Sanctuary. While promoting The Flowers of War in December 2011, Bale, with a crew from the television network CNN, attempted to visit Chen Guangcheng, a confined blind barefoot lawyer, in a village in eastern China. He was forced to retreat after scuffling with guards at a checkpoint. Bale finally met Chen at a dinner held by the nonprofit Human Rights First the following year, during which he presented Chen with an award. Bale voiced Chen's story in Amnesty International's podcast, In Their Own Words. He co-founded California Together, an organisation aiming to construct a village in Palmdale, California to help siblings in foster care remain together.\n",
      "On 22 July 2008, Bale was arrested in London after his mother and his sister Sharon reported him to the police for an alleged assault at a hotel. He was released on bail. Bale denied the allegations and later called the incident \"a deeply personal matter\". On 14 August, the Crown Prosecution Service declared they would take no further action against him because of \"insufficient evidence to afford a realistic prospect of conviction\".\n",
      "\n",
      "Acting credits and accolades\n",
      "According to the review aggregation website Rotten Tomatoes, which assigns films scores based on the number of positive critical reviews they receive, some of Bale's highest-scoring films are The Dark Knight (2008), Ford v Ferrari (2019), American Hustle (2013), Little Women (1994), The Fighter (2010), Rescue Dawn (2007), 3:10 to Yuma (2007), The Big Short (2015), Howl's Moving Castle (2005) and The Dark Knight Rises (2012); the first, third and last of which are also listed by the data website The Numbers as his highest-grossing films, alongside Terminator Salvation (2009), Batman Begins (2005), Pocahontas (1995), Thor: Love and Thunder (2022) and Exodus: Gods and Kings (2014).\n",
      "Bale has garnered four Academy Award nominations, including two in the Best Actor category for his work in American Hustle and Vice (2018) as well as two in the Best Supporting Actor category for his work in The Fighter (2010) and The Big Short; he won one for The Fighter. He has earned two Golden Globe Awards, including Best Supporting Actor – Motion Picture for his role in The Fighter and Best Actor – Motion Picture Musical or Comedy for his role in Vice, and received two nominations for Best Actor – Motion Picture Musical or Comedy for his performances in American Hustle and The Big Short and a nomination for Best Actor – Motion Picture Drama for his performance in Ford v Ferrari. Bale has also been nominated for eight Screen Actors Guild Awards, winning in the Outstanding Performance by a Male Actor in a Supporting Role category for The Fighter and the Outstanding Performance by a Cast in a Motion Picture category as part of the American Hustle cast.\n",
      "\n",
      "References\n",
      "Further reading\n",
      "Holmstrom, John (1996). The Moving Picture Boy: An International Encyclopaedia from 1895 to 1995. Norwich: Michael Russell. p. 394. ISBN 978-0859551786.\n",
      "\n",
      "External links\n",
      "\n",
      "Christian Bale at IMDb\n",
      "Christian Bale at AllMovie\n",
      "Christian Bale collected news and commentary at The New York Times\n"
     ]
    }
   ],
   "source": [
    "print(get_wiki_text(\"Christian Bale\"))"
   ]
  },
  {
   "cell_type": "code",
   "execution_count": 38,
   "metadata": {},
   "outputs": [
    {
     "name": "stderr",
     "output_type": "stream",
     "text": [
      "/var/folders/nl/cvxy58ks2mg_jyg002l659xc0000gn/T/ipykernel_42883/4005999237.py:1: SettingWithCopyWarning:\n",
      "\n",
      "\n",
      "A value is trying to be set on a copy of a slice from a DataFrame.\n",
      "Try using .loc[row_indexer,col_indexer] = value instead\n",
      "\n",
      "See the caveats in the documentation: https://pandas.pydata.org/pandas-docs/stable/user_guide/indexing.html#returning-a-view-versus-a-copy\n",
      "\n"
     ]
    }
   ],
   "source": [
    "target['full_text'] = target['name'].apply(get_wiki_text)"
   ]
  },
  {
   "cell_type": "code",
   "execution_count": 39,
   "metadata": {},
   "outputs": [
    {
     "data": {
      "text/html": [
       "<div>\n",
       "<style scoped>\n",
       "    .dataframe tbody tr th:only-of-type {\n",
       "        vertical-align: middle;\n",
       "    }\n",
       "\n",
       "    .dataframe tbody tr th {\n",
       "        vertical-align: top;\n",
       "    }\n",
       "\n",
       "    .dataframe thead th {\n",
       "        text-align: right;\n",
       "    }\n",
       "</style>\n",
       "<table border=\"1\" class=\"dataframe\">\n",
       "  <thead>\n",
       "    <tr style=\"text-align: right;\">\n",
       "      <th></th>\n",
       "      <th>URI</th>\n",
       "      <th>name</th>\n",
       "      <th>text</th>\n",
       "      <th>sentiment</th>\n",
       "      <th>clean_text</th>\n",
       "      <th>nn_distance_1</th>\n",
       "      <th>full_text</th>\n",
       "    </tr>\n",
       "  </thead>\n",
       "  <tbody>\n",
       "    <tr>\n",
       "      <th>39695</th>\n",
       "      <td>&lt;http://dbpedia.org/resource/Christian_Bale&gt;</td>\n",
       "      <td>Christian Bale</td>\n",
       "      <td>christian charles philip bale born 30 january ...</td>\n",
       "      <td>(0.18916666666666665, 0.2966666666666667)</td>\n",
       "      <td>[christian, charles, philip, bale, born, 30, j...</td>\n",
       "      <td>NaN</td>\n",
       "      <td>Christian Charles Philip Bale (born 30 January...</td>\n",
       "    </tr>\n",
       "    <tr>\n",
       "      <th>28070</th>\n",
       "      <td>&lt;http://dbpedia.org/resource/Amy_Adams&gt;</td>\n",
       "      <td>Amy Adams</td>\n",
       "      <td>amy lou adams born august 20 1974 is an americ...</td>\n",
       "      <td>(0.22387387387387386, 0.28175675675675677)</td>\n",
       "      <td>[amy, lou, adam, born, august, 20, 1974, ameri...</td>\n",
       "      <td>NaN</td>\n",
       "      <td>Amy Lou Adams (born August 20, 1974) is an Ame...</td>\n",
       "    </tr>\n",
       "    <tr>\n",
       "      <th>5875</th>\n",
       "      <td>&lt;http://dbpedia.org/resource/Michael_Keaton&gt;</td>\n",
       "      <td>Michael Keaton</td>\n",
       "      <td>michael john douglas born september 5 1951 bet...</td>\n",
       "      <td>(0.1886679292929293, 0.38437499999999997)</td>\n",
       "      <td>[michael, john, douglas, born, september, 5, 1...</td>\n",
       "      <td>NaN</td>\n",
       "      <td>Michael John Douglas (born September 5, 1951),...</td>\n",
       "    </tr>\n",
       "    <tr>\n",
       "      <th>4672</th>\n",
       "      <td>&lt;http://dbpedia.org/resource/Daniel_Day-Lewis&gt;</td>\n",
       "      <td>Daniel Day-Lewis</td>\n",
       "      <td>sir daniel michael blake daylewis kt born 29 a...</td>\n",
       "      <td>(0.2114583333333333, 0.3815972222222222)</td>\n",
       "      <td>[sir, daniel, michael, blake, daylewis, kt, bo...</td>\n",
       "      <td>NaN</td>\n",
       "      <td>Sir Daniel Michael Blake Day-Lewis (born 29 Ap...</td>\n",
       "    </tr>\n",
       "    <tr>\n",
       "      <th>11156</th>\n",
       "      <td>&lt;http://dbpedia.org/resource/Anne_Hathaway&gt;</td>\n",
       "      <td>Anne Hathaway</td>\n",
       "      <td>anne jacqueline hathaway born november 12 1982...</td>\n",
       "      <td>(0.25546536796536795, 0.35633116883116883)</td>\n",
       "      <td>[anne, jacqueline, hathaway, born, november, 1...</td>\n",
       "      <td>NaN</td>\n",
       "      <td>Anne Jacqueline Hathaway (born November 12, 19...</td>\n",
       "    </tr>\n",
       "    <tr>\n",
       "      <th>39923</th>\n",
       "      <td>&lt;http://dbpedia.org/resource/Jack_Nicholson&gt;</td>\n",
       "      <td>Jack Nicholson</td>\n",
       "      <td>john joseph jack nicholson born april 22 1937 ...</td>\n",
       "      <td>(0.23333333333333334, 0.4002604166666667)</td>\n",
       "      <td>[john, joseph, jack, nicholson, born, april, 2...</td>\n",
       "      <td>NaN</td>\n",
       "      <td>John Joseph Nicholson (born April 22, 1937) is...</td>\n",
       "    </tr>\n",
       "    <tr>\n",
       "      <th>34836</th>\n",
       "      <td>&lt;http://dbpedia.org/resource/Michael_Caine&gt;</td>\n",
       "      <td>Michael Caine</td>\n",
       "      <td>sir michael caine cbe ken born maurice joseph ...</td>\n",
       "      <td>(0.20304054054054052, 0.32747747747747746)</td>\n",
       "      <td>[sir, michael, caine, cbe, ken, born, maurice,...</td>\n",
       "      <td>NaN</td>\n",
       "      <td>Sir Michael Caine  (born Maurice Joseph Mickle...</td>\n",
       "    </tr>\n",
       "    <tr>\n",
       "      <th>13993</th>\n",
       "      <td>&lt;http://dbpedia.org/resource/Ralph_Fiennes&gt;</td>\n",
       "      <td>Ralph Fiennes</td>\n",
       "      <td>ralph nathaniel twisletonwykehamfiennes ref fa...</td>\n",
       "      <td>(0.3046875, 0.3194444444444444)</td>\n",
       "      <td>[ralph, nathaniel, twisletonwykehamfiennes, re...</td>\n",
       "      <td>NaN</td>\n",
       "      <td>Ralph Nathaniel Twisleton-Wykeham-Fiennes (; b...</td>\n",
       "    </tr>\n",
       "    <tr>\n",
       "      <th>29556</th>\n",
       "      <td>&lt;http://dbpedia.org/resource/Felicity_Huffman&gt;</td>\n",
       "      <td>Felicity Huffman</td>\n",
       "      <td>felicity kendall huffman born december 9 1962 ...</td>\n",
       "      <td>(0.215, 0.40374999999999994)</td>\n",
       "      <td>[felicity, kendall, huffman, born, december, 9...</td>\n",
       "      <td>NaN</td>\n",
       "      <td>Felicity Kendall Huffman (born December 9, 196...</td>\n",
       "    </tr>\n",
       "    <tr>\n",
       "      <th>38372</th>\n",
       "      <td>&lt;http://dbpedia.org/resource/Liam_Neeson&gt;</td>\n",
       "      <td>Liam Neeson</td>\n",
       "      <td>liam john neeson obe born 7 june 1952 is an ir...</td>\n",
       "      <td>(0.4015625, 0.40156249999999993)</td>\n",
       "      <td>[liam, john, neeson, obe, born, 7, june, 1952,...</td>\n",
       "      <td>NaN</td>\n",
       "      <td>William John Neeson  (born 7 June 1952) is a N...</td>\n",
       "    </tr>\n",
       "    <tr>\n",
       "      <th>12808</th>\n",
       "      <td>&lt;http://dbpedia.org/resource/Tom_Hanks&gt;</td>\n",
       "      <td>Tom Hanks</td>\n",
       "      <td>thomas jeffrey tom hanks born july 9 1956 is a...</td>\n",
       "      <td>(0.2722222222222222, 0.34583333333333327)</td>\n",
       "      <td>[thomas, jeffrey, tom, hank, born, july, 9, 19...</td>\n",
       "      <td>NaN</td>\n",
       "      <td>Thomas Jeffrey Hanks (born July 9, 1956) is an...</td>\n",
       "    </tr>\n",
       "  </tbody>\n",
       "</table>\n",
       "</div>"
      ],
      "text/plain": [
       "                                                  URI              name  \\\n",
       "39695    <http://dbpedia.org/resource/Christian_Bale>    Christian Bale   \n",
       "28070         <http://dbpedia.org/resource/Amy_Adams>         Amy Adams   \n",
       "5875     <http://dbpedia.org/resource/Michael_Keaton>    Michael Keaton   \n",
       "4672   <http://dbpedia.org/resource/Daniel_Day-Lewis>  Daniel Day-Lewis   \n",
       "11156     <http://dbpedia.org/resource/Anne_Hathaway>     Anne Hathaway   \n",
       "39923    <http://dbpedia.org/resource/Jack_Nicholson>    Jack Nicholson   \n",
       "34836     <http://dbpedia.org/resource/Michael_Caine>     Michael Caine   \n",
       "13993     <http://dbpedia.org/resource/Ralph_Fiennes>     Ralph Fiennes   \n",
       "29556  <http://dbpedia.org/resource/Felicity_Huffman>  Felicity Huffman   \n",
       "38372       <http://dbpedia.org/resource/Liam_Neeson>       Liam Neeson   \n",
       "12808         <http://dbpedia.org/resource/Tom_Hanks>         Tom Hanks   \n",
       "\n",
       "                                                    text  \\\n",
       "39695  christian charles philip bale born 30 january ...   \n",
       "28070  amy lou adams born august 20 1974 is an americ...   \n",
       "5875   michael john douglas born september 5 1951 bet...   \n",
       "4672   sir daniel michael blake daylewis kt born 29 a...   \n",
       "11156  anne jacqueline hathaway born november 12 1982...   \n",
       "39923  john joseph jack nicholson born april 22 1937 ...   \n",
       "34836  sir michael caine cbe ken born maurice joseph ...   \n",
       "13993  ralph nathaniel twisletonwykehamfiennes ref fa...   \n",
       "29556  felicity kendall huffman born december 9 1962 ...   \n",
       "38372  liam john neeson obe born 7 june 1952 is an ir...   \n",
       "12808  thomas jeffrey tom hanks born july 9 1956 is a...   \n",
       "\n",
       "                                        sentiment  \\\n",
       "39695   (0.18916666666666665, 0.2966666666666667)   \n",
       "28070  (0.22387387387387386, 0.28175675675675677)   \n",
       "5875    (0.1886679292929293, 0.38437499999999997)   \n",
       "4672     (0.2114583333333333, 0.3815972222222222)   \n",
       "11156  (0.25546536796536795, 0.35633116883116883)   \n",
       "39923   (0.23333333333333334, 0.4002604166666667)   \n",
       "34836  (0.20304054054054052, 0.32747747747747746)   \n",
       "13993             (0.3046875, 0.3194444444444444)   \n",
       "29556                (0.215, 0.40374999999999994)   \n",
       "38372            (0.4015625, 0.40156249999999993)   \n",
       "12808   (0.2722222222222222, 0.34583333333333327)   \n",
       "\n",
       "                                              clean_text  nn_distance_1  \\\n",
       "39695  [christian, charles, philip, bale, born, 30, j...            NaN   \n",
       "28070  [amy, lou, adam, born, august, 20, 1974, ameri...            NaN   \n",
       "5875   [michael, john, douglas, born, september, 5, 1...            NaN   \n",
       "4672   [sir, daniel, michael, blake, daylewis, kt, bo...            NaN   \n",
       "11156  [anne, jacqueline, hathaway, born, november, 1...            NaN   \n",
       "39923  [john, joseph, jack, nicholson, born, april, 2...            NaN   \n",
       "34836  [sir, michael, caine, cbe, ken, born, maurice,...            NaN   \n",
       "13993  [ralph, nathaniel, twisletonwykehamfiennes, re...            NaN   \n",
       "29556  [felicity, kendall, huffman, born, december, 9...            NaN   \n",
       "38372  [liam, john, neeson, obe, born, 7, june, 1952,...            NaN   \n",
       "12808  [thomas, jeffrey, tom, hank, born, july, 9, 19...            NaN   \n",
       "\n",
       "                                               full_text  \n",
       "39695  Christian Charles Philip Bale (born 30 January...  \n",
       "28070  Amy Lou Adams (born August 20, 1974) is an Ame...  \n",
       "5875   Michael John Douglas (born September 5, 1951),...  \n",
       "4672   Sir Daniel Michael Blake Day-Lewis (born 29 Ap...  \n",
       "11156  Anne Jacqueline Hathaway (born November 12, 19...  \n",
       "39923  John Joseph Nicholson (born April 22, 1937) is...  \n",
       "34836  Sir Michael Caine  (born Maurice Joseph Mickle...  \n",
       "13993  Ralph Nathaniel Twisleton-Wykeham-Fiennes (; b...  \n",
       "29556  Felicity Kendall Huffman (born December 9, 196...  \n",
       "38372  William John Neeson  (born 7 June 1952) is a N...  \n",
       "12808  Thomas Jeffrey Hanks (born July 9, 1956) is an...  "
      ]
     },
     "execution_count": 39,
     "metadata": {},
     "output_type": "execute_result"
    }
   ],
   "source": [
    "target"
   ]
  },
  {
   "cell_type": "code",
   "execution_count": 40,
   "metadata": {},
   "outputs": [],
   "source": [
    "full_text_df=target['full_text']"
   ]
  },
  {
   "cell_type": "code",
   "execution_count": 41,
   "metadata": {},
   "outputs": [],
   "source": [
    "full_text_df = full_text_df.str.lower()"
   ]
  },
  {
   "cell_type": "code",
   "execution_count": 42,
   "metadata": {},
   "outputs": [],
   "source": [
    "sentiment = full_text_df.apply(lambda x: TextBlob(x).sentiment)"
   ]
  },
  {
   "cell_type": "code",
   "execution_count": 43,
   "metadata": {},
   "outputs": [
    {
     "name": "stderr",
     "output_type": "stream",
     "text": [
      "/var/folders/nl/cvxy58ks2mg_jyg002l659xc0000gn/T/ipykernel_42883/1294167596.py:1: SettingWithCopyWarning:\n",
      "\n",
      "\n",
      "A value is trying to be set on a copy of a slice from a DataFrame.\n",
      "Try using .loc[row_indexer,col_indexer] = value instead\n",
      "\n",
      "See the caveats in the documentation: https://pandas.pydata.org/pandas-docs/stable/user_guide/indexing.html#returning-a-view-versus-a-copy\n",
      "\n"
     ]
    }
   ],
   "source": [
    "target['full sentiment'] = sentiment"
   ]
  },
  {
   "cell_type": "code",
   "execution_count": 44,
   "metadata": {},
   "outputs": [
    {
     "data": {
      "text/html": [
       "<div>\n",
       "<style scoped>\n",
       "    .dataframe tbody tr th:only-of-type {\n",
       "        vertical-align: middle;\n",
       "    }\n",
       "\n",
       "    .dataframe tbody tr th {\n",
       "        vertical-align: top;\n",
       "    }\n",
       "\n",
       "    .dataframe thead th {\n",
       "        text-align: right;\n",
       "    }\n",
       "</style>\n",
       "<table border=\"1\" class=\"dataframe\">\n",
       "  <thead>\n",
       "    <tr style=\"text-align: right;\">\n",
       "      <th></th>\n",
       "      <th>URI</th>\n",
       "      <th>name</th>\n",
       "      <th>text</th>\n",
       "      <th>sentiment</th>\n",
       "      <th>clean_text</th>\n",
       "      <th>nn_distance_1</th>\n",
       "      <th>full_text</th>\n",
       "      <th>full sentiment</th>\n",
       "    </tr>\n",
       "  </thead>\n",
       "  <tbody>\n",
       "    <tr>\n",
       "      <th>39695</th>\n",
       "      <td>&lt;http://dbpedia.org/resource/Christian_Bale&gt;</td>\n",
       "      <td>Christian Bale</td>\n",
       "      <td>christian charles philip bale born 30 january ...</td>\n",
       "      <td>(0.18916666666666665, 0.2966666666666667)</td>\n",
       "      <td>[christian, charles, philip, bale, born, 30, j...</td>\n",
       "      <td>NaN</td>\n",
       "      <td>Christian Charles Philip Bale (born 30 January...</td>\n",
       "      <td>(0.1154168870752412, 0.31647796993806937)</td>\n",
       "    </tr>\n",
       "    <tr>\n",
       "      <th>28070</th>\n",
       "      <td>&lt;http://dbpedia.org/resource/Amy_Adams&gt;</td>\n",
       "      <td>Amy Adams</td>\n",
       "      <td>amy lou adams born august 20 1974 is an americ...</td>\n",
       "      <td>(0.22387387387387386, 0.28175675675675677)</td>\n",
       "      <td>[amy, lou, adam, born, august, 20, 1974, ameri...</td>\n",
       "      <td>NaN</td>\n",
       "      <td>Amy Lou Adams (born August 20, 1974) is an Ame...</td>\n",
       "      <td>(0.1300817160367722, 0.3954665980087334)</td>\n",
       "    </tr>\n",
       "    <tr>\n",
       "      <th>5875</th>\n",
       "      <td>&lt;http://dbpedia.org/resource/Michael_Keaton&gt;</td>\n",
       "      <td>Michael Keaton</td>\n",
       "      <td>michael john douglas born september 5 1951 bet...</td>\n",
       "      <td>(0.1886679292929293, 0.38437499999999997)</td>\n",
       "      <td>[michael, john, douglas, born, september, 5, 1...</td>\n",
       "      <td>NaN</td>\n",
       "      <td>Michael John Douglas (born September 5, 1951),...</td>\n",
       "      <td>(0.10917390096534484, 0.3986533430918459)</td>\n",
       "    </tr>\n",
       "    <tr>\n",
       "      <th>4672</th>\n",
       "      <td>&lt;http://dbpedia.org/resource/Daniel_Day-Lewis&gt;</td>\n",
       "      <td>Daniel Day-Lewis</td>\n",
       "      <td>sir daniel michael blake daylewis kt born 29 a...</td>\n",
       "      <td>(0.2114583333333333, 0.3815972222222222)</td>\n",
       "      <td>[sir, daniel, michael, blake, daylewis, kt, bo...</td>\n",
       "      <td>NaN</td>\n",
       "      <td>Sir Daniel Michael Blake Day-Lewis (born 29 Ap...</td>\n",
       "      <td>(0.1720494282584446, 0.348486373978177)</td>\n",
       "    </tr>\n",
       "    <tr>\n",
       "      <th>11156</th>\n",
       "      <td>&lt;http://dbpedia.org/resource/Anne_Hathaway&gt;</td>\n",
       "      <td>Anne Hathaway</td>\n",
       "      <td>anne jacqueline hathaway born november 12 1982...</td>\n",
       "      <td>(0.25546536796536795, 0.35633116883116883)</td>\n",
       "      <td>[anne, jacqueline, hathaway, born, november, 1...</td>\n",
       "      <td>NaN</td>\n",
       "      <td>Anne Jacqueline Hathaway (born November 12, 19...</td>\n",
       "      <td>(0.1338206836972, 0.38011790154771125)</td>\n",
       "    </tr>\n",
       "    <tr>\n",
       "      <th>39923</th>\n",
       "      <td>&lt;http://dbpedia.org/resource/Jack_Nicholson&gt;</td>\n",
       "      <td>Jack Nicholson</td>\n",
       "      <td>john joseph jack nicholson born april 22 1937 ...</td>\n",
       "      <td>(0.23333333333333334, 0.4002604166666667)</td>\n",
       "      <td>[john, joseph, jack, nicholson, born, april, 2...</td>\n",
       "      <td>NaN</td>\n",
       "      <td>John Joseph Nicholson (born April 22, 1937) is...</td>\n",
       "      <td>(0.1425362244995014, 0.40812247493038506)</td>\n",
       "    </tr>\n",
       "    <tr>\n",
       "      <th>34836</th>\n",
       "      <td>&lt;http://dbpedia.org/resource/Michael_Caine&gt;</td>\n",
       "      <td>Michael Caine</td>\n",
       "      <td>sir michael caine cbe ken born maurice joseph ...</td>\n",
       "      <td>(0.20304054054054052, 0.32747747747747746)</td>\n",
       "      <td>[sir, michael, caine, cbe, ken, born, maurice,...</td>\n",
       "      <td>NaN</td>\n",
       "      <td>Sir Michael Caine  (born Maurice Joseph Mickle...</td>\n",
       "      <td>(0.07516953857774175, 0.36406321272043946)</td>\n",
       "    </tr>\n",
       "    <tr>\n",
       "      <th>13993</th>\n",
       "      <td>&lt;http://dbpedia.org/resource/Ralph_Fiennes&gt;</td>\n",
       "      <td>Ralph Fiennes</td>\n",
       "      <td>ralph nathaniel twisletonwykehamfiennes ref fa...</td>\n",
       "      <td>(0.3046875, 0.3194444444444444)</td>\n",
       "      <td>[ralph, nathaniel, twisletonwykehamfiennes, re...</td>\n",
       "      <td>NaN</td>\n",
       "      <td>Ralph Nathaniel Twisleton-Wykeham-Fiennes (; b...</td>\n",
       "      <td>(0.10110291907166907, 0.3501971914081287)</td>\n",
       "    </tr>\n",
       "    <tr>\n",
       "      <th>29556</th>\n",
       "      <td>&lt;http://dbpedia.org/resource/Felicity_Huffman&gt;</td>\n",
       "      <td>Felicity Huffman</td>\n",
       "      <td>felicity kendall huffman born december 9 1962 ...</td>\n",
       "      <td>(0.215, 0.40374999999999994)</td>\n",
       "      <td>[felicity, kendall, huffman, born, december, 9...</td>\n",
       "      <td>NaN</td>\n",
       "      <td>Felicity Kendall Huffman (born December 9, 196...</td>\n",
       "      <td>(0.12875308892496398, 0.4129040646853146)</td>\n",
       "    </tr>\n",
       "    <tr>\n",
       "      <th>38372</th>\n",
       "      <td>&lt;http://dbpedia.org/resource/Liam_Neeson&gt;</td>\n",
       "      <td>Liam Neeson</td>\n",
       "      <td>liam john neeson obe born 7 june 1952 is an ir...</td>\n",
       "      <td>(0.4015625, 0.40156249999999993)</td>\n",
       "      <td>[liam, john, neeson, obe, born, 7, june, 1952,...</td>\n",
       "      <td>NaN</td>\n",
       "      <td>William John Neeson  (born 7 June 1952) is a N...</td>\n",
       "      <td>(0.10508207070707073, 0.348951884435755)</td>\n",
       "    </tr>\n",
       "    <tr>\n",
       "      <th>12808</th>\n",
       "      <td>&lt;http://dbpedia.org/resource/Tom_Hanks&gt;</td>\n",
       "      <td>Tom Hanks</td>\n",
       "      <td>thomas jeffrey tom hanks born july 9 1956 is a...</td>\n",
       "      <td>(0.2722222222222222, 0.34583333333333327)</td>\n",
       "      <td>[thomas, jeffrey, tom, hank, born, july, 9, 19...</td>\n",
       "      <td>NaN</td>\n",
       "      <td>Thomas Jeffrey Hanks (born July 9, 1956) is an...</td>\n",
       "      <td>(0.14874709460193328, 0.3903599512793062)</td>\n",
       "    </tr>\n",
       "  </tbody>\n",
       "</table>\n",
       "</div>"
      ],
      "text/plain": [
       "                                                  URI              name  \\\n",
       "39695    <http://dbpedia.org/resource/Christian_Bale>    Christian Bale   \n",
       "28070         <http://dbpedia.org/resource/Amy_Adams>         Amy Adams   \n",
       "5875     <http://dbpedia.org/resource/Michael_Keaton>    Michael Keaton   \n",
       "4672   <http://dbpedia.org/resource/Daniel_Day-Lewis>  Daniel Day-Lewis   \n",
       "11156     <http://dbpedia.org/resource/Anne_Hathaway>     Anne Hathaway   \n",
       "39923    <http://dbpedia.org/resource/Jack_Nicholson>    Jack Nicholson   \n",
       "34836     <http://dbpedia.org/resource/Michael_Caine>     Michael Caine   \n",
       "13993     <http://dbpedia.org/resource/Ralph_Fiennes>     Ralph Fiennes   \n",
       "29556  <http://dbpedia.org/resource/Felicity_Huffman>  Felicity Huffman   \n",
       "38372       <http://dbpedia.org/resource/Liam_Neeson>       Liam Neeson   \n",
       "12808         <http://dbpedia.org/resource/Tom_Hanks>         Tom Hanks   \n",
       "\n",
       "                                                    text  \\\n",
       "39695  christian charles philip bale born 30 january ...   \n",
       "28070  amy lou adams born august 20 1974 is an americ...   \n",
       "5875   michael john douglas born september 5 1951 bet...   \n",
       "4672   sir daniel michael blake daylewis kt born 29 a...   \n",
       "11156  anne jacqueline hathaway born november 12 1982...   \n",
       "39923  john joseph jack nicholson born april 22 1937 ...   \n",
       "34836  sir michael caine cbe ken born maurice joseph ...   \n",
       "13993  ralph nathaniel twisletonwykehamfiennes ref fa...   \n",
       "29556  felicity kendall huffman born december 9 1962 ...   \n",
       "38372  liam john neeson obe born 7 june 1952 is an ir...   \n",
       "12808  thomas jeffrey tom hanks born july 9 1956 is a...   \n",
       "\n",
       "                                        sentiment  \\\n",
       "39695   (0.18916666666666665, 0.2966666666666667)   \n",
       "28070  (0.22387387387387386, 0.28175675675675677)   \n",
       "5875    (0.1886679292929293, 0.38437499999999997)   \n",
       "4672     (0.2114583333333333, 0.3815972222222222)   \n",
       "11156  (0.25546536796536795, 0.35633116883116883)   \n",
       "39923   (0.23333333333333334, 0.4002604166666667)   \n",
       "34836  (0.20304054054054052, 0.32747747747747746)   \n",
       "13993             (0.3046875, 0.3194444444444444)   \n",
       "29556                (0.215, 0.40374999999999994)   \n",
       "38372            (0.4015625, 0.40156249999999993)   \n",
       "12808   (0.2722222222222222, 0.34583333333333327)   \n",
       "\n",
       "                                              clean_text  nn_distance_1  \\\n",
       "39695  [christian, charles, philip, bale, born, 30, j...            NaN   \n",
       "28070  [amy, lou, adam, born, august, 20, 1974, ameri...            NaN   \n",
       "5875   [michael, john, douglas, born, september, 5, 1...            NaN   \n",
       "4672   [sir, daniel, michael, blake, daylewis, kt, bo...            NaN   \n",
       "11156  [anne, jacqueline, hathaway, born, november, 1...            NaN   \n",
       "39923  [john, joseph, jack, nicholson, born, april, 2...            NaN   \n",
       "34836  [sir, michael, caine, cbe, ken, born, maurice,...            NaN   \n",
       "13993  [ralph, nathaniel, twisletonwykehamfiennes, re...            NaN   \n",
       "29556  [felicity, kendall, huffman, born, december, 9...            NaN   \n",
       "38372  [liam, john, neeson, obe, born, 7, june, 1952,...            NaN   \n",
       "12808  [thomas, jeffrey, tom, hank, born, july, 9, 19...            NaN   \n",
       "\n",
       "                                               full_text  \\\n",
       "39695  Christian Charles Philip Bale (born 30 January...   \n",
       "28070  Amy Lou Adams (born August 20, 1974) is an Ame...   \n",
       "5875   Michael John Douglas (born September 5, 1951),...   \n",
       "4672   Sir Daniel Michael Blake Day-Lewis (born 29 Ap...   \n",
       "11156  Anne Jacqueline Hathaway (born November 12, 19...   \n",
       "39923  John Joseph Nicholson (born April 22, 1937) is...   \n",
       "34836  Sir Michael Caine  (born Maurice Joseph Mickle...   \n",
       "13993  Ralph Nathaniel Twisleton-Wykeham-Fiennes (; b...   \n",
       "29556  Felicity Kendall Huffman (born December 9, 196...   \n",
       "38372  William John Neeson  (born 7 June 1952) is a N...   \n",
       "12808  Thomas Jeffrey Hanks (born July 9, 1956) is an...   \n",
       "\n",
       "                                   full sentiment  \n",
       "39695   (0.1154168870752412, 0.31647796993806937)  \n",
       "28070    (0.1300817160367722, 0.3954665980087334)  \n",
       "5875    (0.10917390096534484, 0.3986533430918459)  \n",
       "4672      (0.1720494282584446, 0.348486373978177)  \n",
       "11156      (0.1338206836972, 0.38011790154771125)  \n",
       "39923   (0.1425362244995014, 0.40812247493038506)  \n",
       "34836  (0.07516953857774175, 0.36406321272043946)  \n",
       "13993   (0.10110291907166907, 0.3501971914081287)  \n",
       "29556   (0.12875308892496398, 0.4129040646853146)  \n",
       "38372    (0.10508207070707073, 0.348951884435755)  \n",
       "12808   (0.14874709460193328, 0.3903599512793062)  "
      ]
     },
     "execution_count": 44,
     "metadata": {},
     "output_type": "execute_result"
    }
   ],
   "source": [
    "target"
   ]
  },
  {
   "cell_type": "code",
   "execution_count": 45,
   "metadata": {},
   "outputs": [
    {
     "name": "stdout",
     "output_type": "stream",
     "text": [
      "0     [christian, charles, philip, bale, born, 30, j...\n",
      "1     [amy, lou, adams, born, august, 20, 1974, is, ...\n",
      "2     [michael, john, douglas, born, september, 5, 1...\n",
      "3     [sir, daniel, michael, blake, day-lewis, born,...\n",
      "4     [anne, jacqueline, hathaway, born, november, 1...\n",
      "5     [john, joseph, nicholson, born, april, 22, 193...\n",
      "6     [sir, michael, caine, born, maurice, joseph, m...\n",
      "7     [ralph, nathaniel, twisleton-wykeham-fiennes, ...\n",
      "8     [felicity, kendall, huffman, born, december, 9...\n",
      "9     [william, john, neeson, born, 7, june, 1952, i...\n",
      "10    [thomas, jeffrey, hanks, born, july, 9, 1956, ...\n",
      "dtype: object\n"
     ]
    }
   ],
   "source": [
    "tokenized_data = []\n",
    "\n",
    "# Loop through each row in the data series\n",
    "for _ in full_text_df:\n",
    "    # Convert the text to a TextBlob\n",
    "    blob = TextBlob(_)\n",
    "    # Tokenize the text by words\n",
    "    tokens = blob.words\n",
    "    # Append the tokens to the new list\n",
    "    tokenized_data.append(tokens)\n",
    "\n",
    "# Convert the list of tokens back into a pandas Series if needed\n",
    "tokenized_series = pd.Series(tokenized_data)\n",
    "print(tokenized_series)"
   ]
  },
  {
   "cell_type": "code",
   "execution_count": 46,
   "metadata": {},
   "outputs": [
    {
     "name": "stdout",
     "output_type": "stream",
     "text": [
      "0     [christian, charles, philip, bale, born, 30, j...\n",
      "1     [amy, lou, adams, born, august, 20, 1974, amer...\n",
      "2     [michael, john, douglas, born, september, 5, 1...\n",
      "3     [sir, daniel, michael, blake, day-lewis, born,...\n",
      "4     [anne, jacqueline, hathaway, born, november, 1...\n",
      "5     [john, joseph, nicholson, born, april, 22, 193...\n",
      "6     [sir, michael, caine, born, maurice, joseph, m...\n",
      "7     [ralph, nathaniel, twisleton-wykeham-fiennes, ...\n",
      "8     [felicity, kendall, huffman, born, december, 9...\n",
      "9     [william, john, neeson, born, 7, june, 1952, n...\n",
      "10    [thomas, jeffrey, hanks, born, july, 9, 1956, ...\n",
      "dtype: object\n"
     ]
    }
   ],
   "source": [
    "stop_words = set(stopwords.words('english'))\n",
    "\n",
    "filtered_data = tokenized_series.apply(lambda tokens: [word for word in tokens if word not in stop_words])\n",
    "\n",
    "print(filtered_data)"
   ]
  },
  {
   "cell_type": "code",
   "execution_count": 47,
   "metadata": {},
   "outputs": [],
   "source": [
    "lemmatizer = WordNetLemmatizer()\n",
    "lemitized_data = filtered_data.apply(lambda tokens: [lemmatizer.lemmatize(word) for word in tokens])"
   ]
  },
  {
   "cell_type": "code",
   "execution_count": 48,
   "metadata": {},
   "outputs": [
    {
     "name": "stderr",
     "output_type": "stream",
     "text": [
      "/var/folders/nl/cvxy58ks2mg_jyg002l659xc0000gn/T/ipykernel_42883/3348438177.py:1: SettingWithCopyWarning:\n",
      "\n",
      "\n",
      "A value is trying to be set on a copy of a slice from a DataFrame.\n",
      "Try using .loc[row_indexer,col_indexer] = value instead\n",
      "\n",
      "See the caveats in the documentation: https://pandas.pydata.org/pandas-docs/stable/user_guide/indexing.html#returning-a-view-versus-a-copy\n",
      "\n"
     ]
    }
   ],
   "source": [
    "target['full_clean_text']=lemitized_data"
   ]
  },
  {
   "cell_type": "code",
   "execution_count": 49,
   "metadata": {},
   "outputs": [],
   "source": [
    "text_data = [' '.join(doc) for doc in lemitized_data]\n",
    "\n",
    "# Initialize CountVectorizer\n",
    "my_vectorizer = CountVectorizer(stop_words='english')\n",
    "\n",
    "# Fit and transform the text data\n",
    "my_bow_vec = my_vectorizer.fit_transform(text_data)\n",
    "\n",
    "# Convert the bag of words matrix to a DataFrame\n",
    "#my_sent_df = pd.DataFrame(my_bow_vec.toarray(), columns=my_vectorizer.get_feature_names_out())\n",
    "\n",
    "# Display the DataFrame\n",
    "#print(my_sent_df)"
   ]
  },
  {
   "cell_type": "code",
   "execution_count": 50,
   "metadata": {},
   "outputs": [],
   "source": [
    "tf_idf_vec = TfidfTransformer()\n",
    "tf_idf_fit = tf_idf_vec.fit_transform(my_bow_vec)"
   ]
  },
  {
   "cell_type": "code",
   "execution_count": 51,
   "metadata": {},
   "outputs": [],
   "source": [
    "nn = NearestNeighbors().fit(tf_idf_fit)"
   ]
  },
  {
   "cell_type": "code",
   "execution_count": 52,
   "metadata": {},
   "outputs": [
    {
     "data": {
      "text/plain": [
       "(1, 7402)"
      ]
     },
     "execution_count": 52,
     "metadata": {},
     "output_type": "execute_result"
    }
   ],
   "source": [
    "sent = tf_idf_fit[0]\n",
    "sent.shape"
   ]
  },
  {
   "cell_type": "code",
   "execution_count": 53,
   "metadata": {},
   "outputs": [],
   "source": [
    "distances, indices = nn.kneighbors(\n",
    "    X = sent,\n",
    "    n_neighbors=11\n",
    ")"
   ]
  },
  {
   "cell_type": "code",
   "execution_count": 54,
   "metadata": {},
   "outputs": [],
   "source": [
    "distance_df2 = pd.DataFrame({'indices': indices.flatten(), 'distances': distances.flatten()})"
   ]
  },
  {
   "cell_type": "code",
   "execution_count": 64,
   "metadata": {},
   "outputs": [
    {
     "name": "stdout",
     "output_type": "stream",
     "text": [
      "<class 'pandas.core.frame.DataFrame'>\n",
      "RangeIndex: 11 entries, 0 to 10\n",
      "Data columns (total 2 columns):\n",
      " #   Column     Non-Null Count  Dtype  \n",
      "---  ------     --------------  -----  \n",
      " 0   indices    11 non-null     int64  \n",
      " 1   distances  11 non-null     float64\n",
      "dtypes: float64(1), int64(1)\n",
      "memory usage: 308.0 bytes\n"
     ]
    }
   ],
   "source": [
    "distance_df2.info()"
   ]
  },
  {
   "cell_type": "markdown",
   "metadata": {},
   "source": []
  },
  {
   "cell_type": "code",
   "execution_count": 56,
   "metadata": {},
   "outputs": [
    {
     "name": "stderr",
     "output_type": "stream",
     "text": [
      "/var/folders/nl/cvxy58ks2mg_jyg002l659xc0000gn/T/ipykernel_42883/3188910678.py:1: SettingWithCopyWarning:\n",
      "\n",
      "\n",
      "A value is trying to be set on a copy of a slice from a DataFrame.\n",
      "Try using .loc[row_indexer,col_indexer] = value instead\n",
      "\n",
      "See the caveats in the documentation: https://pandas.pydata.org/pandas-docs/stable/user_guide/indexing.html#returning-a-view-versus-a-copy\n",
      "\n"
     ]
    }
   ],
   "source": [
    "target['nn_distance_2']=distance_df2['distances']"
   ]
  },
  {
   "cell_type": "code",
   "execution_count": 57,
   "metadata": {},
   "outputs": [
    {
     "data": {
      "text/html": [
       "<div>\n",
       "<style scoped>\n",
       "    .dataframe tbody tr th:only-of-type {\n",
       "        vertical-align: middle;\n",
       "    }\n",
       "\n",
       "    .dataframe tbody tr th {\n",
       "        vertical-align: top;\n",
       "    }\n",
       "\n",
       "    .dataframe thead th {\n",
       "        text-align: right;\n",
       "    }\n",
       "</style>\n",
       "<table border=\"1\" class=\"dataframe\">\n",
       "  <thead>\n",
       "    <tr style=\"text-align: right;\">\n",
       "      <th></th>\n",
       "      <th>URI</th>\n",
       "      <th>name</th>\n",
       "      <th>text</th>\n",
       "      <th>sentiment</th>\n",
       "      <th>clean_text</th>\n",
       "      <th>nn_distance_1</th>\n",
       "      <th>full_text</th>\n",
       "      <th>full sentiment</th>\n",
       "      <th>full_clean_text</th>\n",
       "      <th>nn_distance_2</th>\n",
       "    </tr>\n",
       "  </thead>\n",
       "  <tbody>\n",
       "    <tr>\n",
       "      <th>39695</th>\n",
       "      <td>&lt;http://dbpedia.org/resource/Christian_Bale&gt;</td>\n",
       "      <td>Christian Bale</td>\n",
       "      <td>christian charles philip bale born 30 january ...</td>\n",
       "      <td>(0.18916666666666665, 0.2966666666666667)</td>\n",
       "      <td>[christian, charles, philip, bale, born, 30, j...</td>\n",
       "      <td>NaN</td>\n",
       "      <td>Christian Charles Philip Bale (born 30 January...</td>\n",
       "      <td>(0.1154168870752412, 0.31647796993806937)</td>\n",
       "      <td>NaN</td>\n",
       "      <td>NaN</td>\n",
       "    </tr>\n",
       "    <tr>\n",
       "      <th>28070</th>\n",
       "      <td>&lt;http://dbpedia.org/resource/Amy_Adams&gt;</td>\n",
       "      <td>Amy Adams</td>\n",
       "      <td>amy lou adams born august 20 1974 is an americ...</td>\n",
       "      <td>(0.22387387387387386, 0.28175675675675677)</td>\n",
       "      <td>[amy, lou, adam, born, august, 20, 1974, ameri...</td>\n",
       "      <td>NaN</td>\n",
       "      <td>Amy Lou Adams (born August 20, 1974) is an Ame...</td>\n",
       "      <td>(0.1300817160367722, 0.3954665980087334)</td>\n",
       "      <td>NaN</td>\n",
       "      <td>NaN</td>\n",
       "    </tr>\n",
       "    <tr>\n",
       "      <th>5875</th>\n",
       "      <td>&lt;http://dbpedia.org/resource/Michael_Keaton&gt;</td>\n",
       "      <td>Michael Keaton</td>\n",
       "      <td>michael john douglas born september 5 1951 bet...</td>\n",
       "      <td>(0.1886679292929293, 0.38437499999999997)</td>\n",
       "      <td>[michael, john, douglas, born, september, 5, 1...</td>\n",
       "      <td>NaN</td>\n",
       "      <td>Michael John Douglas (born September 5, 1951),...</td>\n",
       "      <td>(0.10917390096534484, 0.3986533430918459)</td>\n",
       "      <td>NaN</td>\n",
       "      <td>NaN</td>\n",
       "    </tr>\n",
       "    <tr>\n",
       "      <th>4672</th>\n",
       "      <td>&lt;http://dbpedia.org/resource/Daniel_Day-Lewis&gt;</td>\n",
       "      <td>Daniel Day-Lewis</td>\n",
       "      <td>sir daniel michael blake daylewis kt born 29 a...</td>\n",
       "      <td>(0.2114583333333333, 0.3815972222222222)</td>\n",
       "      <td>[sir, daniel, michael, blake, daylewis, kt, bo...</td>\n",
       "      <td>NaN</td>\n",
       "      <td>Sir Daniel Michael Blake Day-Lewis (born 29 Ap...</td>\n",
       "      <td>(0.1720494282584446, 0.348486373978177)</td>\n",
       "      <td>NaN</td>\n",
       "      <td>NaN</td>\n",
       "    </tr>\n",
       "    <tr>\n",
       "      <th>11156</th>\n",
       "      <td>&lt;http://dbpedia.org/resource/Anne_Hathaway&gt;</td>\n",
       "      <td>Anne Hathaway</td>\n",
       "      <td>anne jacqueline hathaway born november 12 1982...</td>\n",
       "      <td>(0.25546536796536795, 0.35633116883116883)</td>\n",
       "      <td>[anne, jacqueline, hathaway, born, november, 1...</td>\n",
       "      <td>NaN</td>\n",
       "      <td>Anne Jacqueline Hathaway (born November 12, 19...</td>\n",
       "      <td>(0.1338206836972, 0.38011790154771125)</td>\n",
       "      <td>NaN</td>\n",
       "      <td>NaN</td>\n",
       "    </tr>\n",
       "    <tr>\n",
       "      <th>39923</th>\n",
       "      <td>&lt;http://dbpedia.org/resource/Jack_Nicholson&gt;</td>\n",
       "      <td>Jack Nicholson</td>\n",
       "      <td>john joseph jack nicholson born april 22 1937 ...</td>\n",
       "      <td>(0.23333333333333334, 0.4002604166666667)</td>\n",
       "      <td>[john, joseph, jack, nicholson, born, april, 2...</td>\n",
       "      <td>NaN</td>\n",
       "      <td>John Joseph Nicholson (born April 22, 1937) is...</td>\n",
       "      <td>(0.1425362244995014, 0.40812247493038506)</td>\n",
       "      <td>NaN</td>\n",
       "      <td>NaN</td>\n",
       "    </tr>\n",
       "    <tr>\n",
       "      <th>34836</th>\n",
       "      <td>&lt;http://dbpedia.org/resource/Michael_Caine&gt;</td>\n",
       "      <td>Michael Caine</td>\n",
       "      <td>sir michael caine cbe ken born maurice joseph ...</td>\n",
       "      <td>(0.20304054054054052, 0.32747747747747746)</td>\n",
       "      <td>[sir, michael, caine, cbe, ken, born, maurice,...</td>\n",
       "      <td>NaN</td>\n",
       "      <td>Sir Michael Caine  (born Maurice Joseph Mickle...</td>\n",
       "      <td>(0.07516953857774175, 0.36406321272043946)</td>\n",
       "      <td>NaN</td>\n",
       "      <td>NaN</td>\n",
       "    </tr>\n",
       "    <tr>\n",
       "      <th>13993</th>\n",
       "      <td>&lt;http://dbpedia.org/resource/Ralph_Fiennes&gt;</td>\n",
       "      <td>Ralph Fiennes</td>\n",
       "      <td>ralph nathaniel twisletonwykehamfiennes ref fa...</td>\n",
       "      <td>(0.3046875, 0.3194444444444444)</td>\n",
       "      <td>[ralph, nathaniel, twisletonwykehamfiennes, re...</td>\n",
       "      <td>NaN</td>\n",
       "      <td>Ralph Nathaniel Twisleton-Wykeham-Fiennes (; b...</td>\n",
       "      <td>(0.10110291907166907, 0.3501971914081287)</td>\n",
       "      <td>NaN</td>\n",
       "      <td>NaN</td>\n",
       "    </tr>\n",
       "    <tr>\n",
       "      <th>29556</th>\n",
       "      <td>&lt;http://dbpedia.org/resource/Felicity_Huffman&gt;</td>\n",
       "      <td>Felicity Huffman</td>\n",
       "      <td>felicity kendall huffman born december 9 1962 ...</td>\n",
       "      <td>(0.215, 0.40374999999999994)</td>\n",
       "      <td>[felicity, kendall, huffman, born, december, 9...</td>\n",
       "      <td>NaN</td>\n",
       "      <td>Felicity Kendall Huffman (born December 9, 196...</td>\n",
       "      <td>(0.12875308892496398, 0.4129040646853146)</td>\n",
       "      <td>NaN</td>\n",
       "      <td>NaN</td>\n",
       "    </tr>\n",
       "    <tr>\n",
       "      <th>38372</th>\n",
       "      <td>&lt;http://dbpedia.org/resource/Liam_Neeson&gt;</td>\n",
       "      <td>Liam Neeson</td>\n",
       "      <td>liam john neeson obe born 7 june 1952 is an ir...</td>\n",
       "      <td>(0.4015625, 0.40156249999999993)</td>\n",
       "      <td>[liam, john, neeson, obe, born, 7, june, 1952,...</td>\n",
       "      <td>NaN</td>\n",
       "      <td>William John Neeson  (born 7 June 1952) is a N...</td>\n",
       "      <td>(0.10508207070707073, 0.348951884435755)</td>\n",
       "      <td>NaN</td>\n",
       "      <td>NaN</td>\n",
       "    </tr>\n",
       "    <tr>\n",
       "      <th>12808</th>\n",
       "      <td>&lt;http://dbpedia.org/resource/Tom_Hanks&gt;</td>\n",
       "      <td>Tom Hanks</td>\n",
       "      <td>thomas jeffrey tom hanks born july 9 1956 is a...</td>\n",
       "      <td>(0.2722222222222222, 0.34583333333333327)</td>\n",
       "      <td>[thomas, jeffrey, tom, hank, born, july, 9, 19...</td>\n",
       "      <td>NaN</td>\n",
       "      <td>Thomas Jeffrey Hanks (born July 9, 1956) is an...</td>\n",
       "      <td>(0.14874709460193328, 0.3903599512793062)</td>\n",
       "      <td>NaN</td>\n",
       "      <td>NaN</td>\n",
       "    </tr>\n",
       "  </tbody>\n",
       "</table>\n",
       "</div>"
      ],
      "text/plain": [
       "                                                  URI              name  \\\n",
       "39695    <http://dbpedia.org/resource/Christian_Bale>    Christian Bale   \n",
       "28070         <http://dbpedia.org/resource/Amy_Adams>         Amy Adams   \n",
       "5875     <http://dbpedia.org/resource/Michael_Keaton>    Michael Keaton   \n",
       "4672   <http://dbpedia.org/resource/Daniel_Day-Lewis>  Daniel Day-Lewis   \n",
       "11156     <http://dbpedia.org/resource/Anne_Hathaway>     Anne Hathaway   \n",
       "39923    <http://dbpedia.org/resource/Jack_Nicholson>    Jack Nicholson   \n",
       "34836     <http://dbpedia.org/resource/Michael_Caine>     Michael Caine   \n",
       "13993     <http://dbpedia.org/resource/Ralph_Fiennes>     Ralph Fiennes   \n",
       "29556  <http://dbpedia.org/resource/Felicity_Huffman>  Felicity Huffman   \n",
       "38372       <http://dbpedia.org/resource/Liam_Neeson>       Liam Neeson   \n",
       "12808         <http://dbpedia.org/resource/Tom_Hanks>         Tom Hanks   \n",
       "\n",
       "                                                    text  \\\n",
       "39695  christian charles philip bale born 30 january ...   \n",
       "28070  amy lou adams born august 20 1974 is an americ...   \n",
       "5875   michael john douglas born september 5 1951 bet...   \n",
       "4672   sir daniel michael blake daylewis kt born 29 a...   \n",
       "11156  anne jacqueline hathaway born november 12 1982...   \n",
       "39923  john joseph jack nicholson born april 22 1937 ...   \n",
       "34836  sir michael caine cbe ken born maurice joseph ...   \n",
       "13993  ralph nathaniel twisletonwykehamfiennes ref fa...   \n",
       "29556  felicity kendall huffman born december 9 1962 ...   \n",
       "38372  liam john neeson obe born 7 june 1952 is an ir...   \n",
       "12808  thomas jeffrey tom hanks born july 9 1956 is a...   \n",
       "\n",
       "                                        sentiment  \\\n",
       "39695   (0.18916666666666665, 0.2966666666666667)   \n",
       "28070  (0.22387387387387386, 0.28175675675675677)   \n",
       "5875    (0.1886679292929293, 0.38437499999999997)   \n",
       "4672     (0.2114583333333333, 0.3815972222222222)   \n",
       "11156  (0.25546536796536795, 0.35633116883116883)   \n",
       "39923   (0.23333333333333334, 0.4002604166666667)   \n",
       "34836  (0.20304054054054052, 0.32747747747747746)   \n",
       "13993             (0.3046875, 0.3194444444444444)   \n",
       "29556                (0.215, 0.40374999999999994)   \n",
       "38372            (0.4015625, 0.40156249999999993)   \n",
       "12808   (0.2722222222222222, 0.34583333333333327)   \n",
       "\n",
       "                                              clean_text  nn_distance_1  \\\n",
       "39695  [christian, charles, philip, bale, born, 30, j...            NaN   \n",
       "28070  [amy, lou, adam, born, august, 20, 1974, ameri...            NaN   \n",
       "5875   [michael, john, douglas, born, september, 5, 1...            NaN   \n",
       "4672   [sir, daniel, michael, blake, daylewis, kt, bo...            NaN   \n",
       "11156  [anne, jacqueline, hathaway, born, november, 1...            NaN   \n",
       "39923  [john, joseph, jack, nicholson, born, april, 2...            NaN   \n",
       "34836  [sir, michael, caine, cbe, ken, born, maurice,...            NaN   \n",
       "13993  [ralph, nathaniel, twisletonwykehamfiennes, re...            NaN   \n",
       "29556  [felicity, kendall, huffman, born, december, 9...            NaN   \n",
       "38372  [liam, john, neeson, obe, born, 7, june, 1952,...            NaN   \n",
       "12808  [thomas, jeffrey, tom, hank, born, july, 9, 19...            NaN   \n",
       "\n",
       "                                               full_text  \\\n",
       "39695  Christian Charles Philip Bale (born 30 January...   \n",
       "28070  Amy Lou Adams (born August 20, 1974) is an Ame...   \n",
       "5875   Michael John Douglas (born September 5, 1951),...   \n",
       "4672   Sir Daniel Michael Blake Day-Lewis (born 29 Ap...   \n",
       "11156  Anne Jacqueline Hathaway (born November 12, 19...   \n",
       "39923  John Joseph Nicholson (born April 22, 1937) is...   \n",
       "34836  Sir Michael Caine  (born Maurice Joseph Mickle...   \n",
       "13993  Ralph Nathaniel Twisleton-Wykeham-Fiennes (; b...   \n",
       "29556  Felicity Kendall Huffman (born December 9, 196...   \n",
       "38372  William John Neeson  (born 7 June 1952) is a N...   \n",
       "12808  Thomas Jeffrey Hanks (born July 9, 1956) is an...   \n",
       "\n",
       "                                   full sentiment full_clean_text  \\\n",
       "39695   (0.1154168870752412, 0.31647796993806937)             NaN   \n",
       "28070    (0.1300817160367722, 0.3954665980087334)             NaN   \n",
       "5875    (0.10917390096534484, 0.3986533430918459)             NaN   \n",
       "4672      (0.1720494282584446, 0.348486373978177)             NaN   \n",
       "11156      (0.1338206836972, 0.38011790154771125)             NaN   \n",
       "39923   (0.1425362244995014, 0.40812247493038506)             NaN   \n",
       "34836  (0.07516953857774175, 0.36406321272043946)             NaN   \n",
       "13993   (0.10110291907166907, 0.3501971914081287)             NaN   \n",
       "29556   (0.12875308892496398, 0.4129040646853146)             NaN   \n",
       "38372    (0.10508207070707073, 0.348951884435755)             NaN   \n",
       "12808   (0.14874709460193328, 0.3903599512793062)             NaN   \n",
       "\n",
       "       nn_distance_2  \n",
       "39695            NaN  \n",
       "28070            NaN  \n",
       "5875             NaN  \n",
       "4672             NaN  \n",
       "11156            NaN  \n",
       "39923            NaN  \n",
       "34836            NaN  \n",
       "13993            NaN  \n",
       "29556            NaN  \n",
       "38372            NaN  \n",
       "12808            NaN  "
      ]
     },
     "execution_count": 57,
     "metadata": {},
     "output_type": "execute_result"
    }
   ],
   "source": [
    "target"
   ]
  },
  {
   "cell_type": "code",
   "execution_count": 62,
   "metadata": {},
   "outputs": [
    {
     "data": {
      "application/vnd.plotly.v1+json": {
       "config": {
        "plotlyServerURL": "https://plot.ly"
       },
       "data": [
        {
         "hovertemplate": "x=%{x}<br>y=%{y}<extra></extra>",
         "legendgroup": "",
         "line": {
          "color": "#636efa",
          "dash": "solid"
         },
         "marker": {
          "symbol": "circle"
         },
         "mode": "lines",
         "name": "",
         "orientation": "v",
         "showlegend": false,
         "type": "scatter",
         "x": [
          0,
          1,
          2,
          3,
          4,
          5,
          6,
          7,
          8,
          9,
          10
         ],
         "xaxis": "x",
         "y": [
          0,
          1.2187616805945454,
          1.2898839345916144,
          1.2910919706606376,
          1.2940207694401062,
          1.297877499366252,
          1.3157520081777976,
          1.3180603903418362,
          1.3267634971709745,
          1.3338334943266785,
          1.3451221708614967
         ],
         "yaxis": "y"
        }
       ],
       "layout": {
        "legend": {
         "tracegroupgap": 0
        },
        "margin": {
         "t": 60
        },
        "template": {
         "data": {
          "bar": [
           {
            "error_x": {
             "color": "#2a3f5f"
            },
            "error_y": {
             "color": "#2a3f5f"
            },
            "marker": {
             "line": {
              "color": "#E5ECF6",
              "width": 0.5
             },
             "pattern": {
              "fillmode": "overlay",
              "size": 10,
              "solidity": 0.2
             }
            },
            "type": "bar"
           }
          ],
          "barpolar": [
           {
            "marker": {
             "line": {
              "color": "#E5ECF6",
              "width": 0.5
             },
             "pattern": {
              "fillmode": "overlay",
              "size": 10,
              "solidity": 0.2
             }
            },
            "type": "barpolar"
           }
          ],
          "carpet": [
           {
            "aaxis": {
             "endlinecolor": "#2a3f5f",
             "gridcolor": "white",
             "linecolor": "white",
             "minorgridcolor": "white",
             "startlinecolor": "#2a3f5f"
            },
            "baxis": {
             "endlinecolor": "#2a3f5f",
             "gridcolor": "white",
             "linecolor": "white",
             "minorgridcolor": "white",
             "startlinecolor": "#2a3f5f"
            },
            "type": "carpet"
           }
          ],
          "choropleth": [
           {
            "colorbar": {
             "outlinewidth": 0,
             "ticks": ""
            },
            "type": "choropleth"
           }
          ],
          "contour": [
           {
            "colorbar": {
             "outlinewidth": 0,
             "ticks": ""
            },
            "colorscale": [
             [
              0,
              "#0d0887"
             ],
             [
              0.1111111111111111,
              "#46039f"
             ],
             [
              0.2222222222222222,
              "#7201a8"
             ],
             [
              0.3333333333333333,
              "#9c179e"
             ],
             [
              0.4444444444444444,
              "#bd3786"
             ],
             [
              0.5555555555555556,
              "#d8576b"
             ],
             [
              0.6666666666666666,
              "#ed7953"
             ],
             [
              0.7777777777777778,
              "#fb9f3a"
             ],
             [
              0.8888888888888888,
              "#fdca26"
             ],
             [
              1,
              "#f0f921"
             ]
            ],
            "type": "contour"
           }
          ],
          "contourcarpet": [
           {
            "colorbar": {
             "outlinewidth": 0,
             "ticks": ""
            },
            "type": "contourcarpet"
           }
          ],
          "heatmap": [
           {
            "colorbar": {
             "outlinewidth": 0,
             "ticks": ""
            },
            "colorscale": [
             [
              0,
              "#0d0887"
             ],
             [
              0.1111111111111111,
              "#46039f"
             ],
             [
              0.2222222222222222,
              "#7201a8"
             ],
             [
              0.3333333333333333,
              "#9c179e"
             ],
             [
              0.4444444444444444,
              "#bd3786"
             ],
             [
              0.5555555555555556,
              "#d8576b"
             ],
             [
              0.6666666666666666,
              "#ed7953"
             ],
             [
              0.7777777777777778,
              "#fb9f3a"
             ],
             [
              0.8888888888888888,
              "#fdca26"
             ],
             [
              1,
              "#f0f921"
             ]
            ],
            "type": "heatmap"
           }
          ],
          "heatmapgl": [
           {
            "colorbar": {
             "outlinewidth": 0,
             "ticks": ""
            },
            "colorscale": [
             [
              0,
              "#0d0887"
             ],
             [
              0.1111111111111111,
              "#46039f"
             ],
             [
              0.2222222222222222,
              "#7201a8"
             ],
             [
              0.3333333333333333,
              "#9c179e"
             ],
             [
              0.4444444444444444,
              "#bd3786"
             ],
             [
              0.5555555555555556,
              "#d8576b"
             ],
             [
              0.6666666666666666,
              "#ed7953"
             ],
             [
              0.7777777777777778,
              "#fb9f3a"
             ],
             [
              0.8888888888888888,
              "#fdca26"
             ],
             [
              1,
              "#f0f921"
             ]
            ],
            "type": "heatmapgl"
           }
          ],
          "histogram": [
           {
            "marker": {
             "pattern": {
              "fillmode": "overlay",
              "size": 10,
              "solidity": 0.2
             }
            },
            "type": "histogram"
           }
          ],
          "histogram2d": [
           {
            "colorbar": {
             "outlinewidth": 0,
             "ticks": ""
            },
            "colorscale": [
             [
              0,
              "#0d0887"
             ],
             [
              0.1111111111111111,
              "#46039f"
             ],
             [
              0.2222222222222222,
              "#7201a8"
             ],
             [
              0.3333333333333333,
              "#9c179e"
             ],
             [
              0.4444444444444444,
              "#bd3786"
             ],
             [
              0.5555555555555556,
              "#d8576b"
             ],
             [
              0.6666666666666666,
              "#ed7953"
             ],
             [
              0.7777777777777778,
              "#fb9f3a"
             ],
             [
              0.8888888888888888,
              "#fdca26"
             ],
             [
              1,
              "#f0f921"
             ]
            ],
            "type": "histogram2d"
           }
          ],
          "histogram2dcontour": [
           {
            "colorbar": {
             "outlinewidth": 0,
             "ticks": ""
            },
            "colorscale": [
             [
              0,
              "#0d0887"
             ],
             [
              0.1111111111111111,
              "#46039f"
             ],
             [
              0.2222222222222222,
              "#7201a8"
             ],
             [
              0.3333333333333333,
              "#9c179e"
             ],
             [
              0.4444444444444444,
              "#bd3786"
             ],
             [
              0.5555555555555556,
              "#d8576b"
             ],
             [
              0.6666666666666666,
              "#ed7953"
             ],
             [
              0.7777777777777778,
              "#fb9f3a"
             ],
             [
              0.8888888888888888,
              "#fdca26"
             ],
             [
              1,
              "#f0f921"
             ]
            ],
            "type": "histogram2dcontour"
           }
          ],
          "mesh3d": [
           {
            "colorbar": {
             "outlinewidth": 0,
             "ticks": ""
            },
            "type": "mesh3d"
           }
          ],
          "parcoords": [
           {
            "line": {
             "colorbar": {
              "outlinewidth": 0,
              "ticks": ""
             }
            },
            "type": "parcoords"
           }
          ],
          "pie": [
           {
            "automargin": true,
            "type": "pie"
           }
          ],
          "scatter": [
           {
            "fillpattern": {
             "fillmode": "overlay",
             "size": 10,
             "solidity": 0.2
            },
            "type": "scatter"
           }
          ],
          "scatter3d": [
           {
            "line": {
             "colorbar": {
              "outlinewidth": 0,
              "ticks": ""
             }
            },
            "marker": {
             "colorbar": {
              "outlinewidth": 0,
              "ticks": ""
             }
            },
            "type": "scatter3d"
           }
          ],
          "scattercarpet": [
           {
            "marker": {
             "colorbar": {
              "outlinewidth": 0,
              "ticks": ""
             }
            },
            "type": "scattercarpet"
           }
          ],
          "scattergeo": [
           {
            "marker": {
             "colorbar": {
              "outlinewidth": 0,
              "ticks": ""
             }
            },
            "type": "scattergeo"
           }
          ],
          "scattergl": [
           {
            "marker": {
             "colorbar": {
              "outlinewidth": 0,
              "ticks": ""
             }
            },
            "type": "scattergl"
           }
          ],
          "scattermapbox": [
           {
            "marker": {
             "colorbar": {
              "outlinewidth": 0,
              "ticks": ""
             }
            },
            "type": "scattermapbox"
           }
          ],
          "scatterpolar": [
           {
            "marker": {
             "colorbar": {
              "outlinewidth": 0,
              "ticks": ""
             }
            },
            "type": "scatterpolar"
           }
          ],
          "scatterpolargl": [
           {
            "marker": {
             "colorbar": {
              "outlinewidth": 0,
              "ticks": ""
             }
            },
            "type": "scatterpolargl"
           }
          ],
          "scatterternary": [
           {
            "marker": {
             "colorbar": {
              "outlinewidth": 0,
              "ticks": ""
             }
            },
            "type": "scatterternary"
           }
          ],
          "surface": [
           {
            "colorbar": {
             "outlinewidth": 0,
             "ticks": ""
            },
            "colorscale": [
             [
              0,
              "#0d0887"
             ],
             [
              0.1111111111111111,
              "#46039f"
             ],
             [
              0.2222222222222222,
              "#7201a8"
             ],
             [
              0.3333333333333333,
              "#9c179e"
             ],
             [
              0.4444444444444444,
              "#bd3786"
             ],
             [
              0.5555555555555556,
              "#d8576b"
             ],
             [
              0.6666666666666666,
              "#ed7953"
             ],
             [
              0.7777777777777778,
              "#fb9f3a"
             ],
             [
              0.8888888888888888,
              "#fdca26"
             ],
             [
              1,
              "#f0f921"
             ]
            ],
            "type": "surface"
           }
          ],
          "table": [
           {
            "cells": {
             "fill": {
              "color": "#EBF0F8"
             },
             "line": {
              "color": "white"
             }
            },
            "header": {
             "fill": {
              "color": "#C8D4E3"
             },
             "line": {
              "color": "white"
             }
            },
            "type": "table"
           }
          ]
         },
         "layout": {
          "annotationdefaults": {
           "arrowcolor": "#2a3f5f",
           "arrowhead": 0,
           "arrowwidth": 1
          },
          "autotypenumbers": "strict",
          "coloraxis": {
           "colorbar": {
            "outlinewidth": 0,
            "ticks": ""
           }
          },
          "colorscale": {
           "diverging": [
            [
             0,
             "#8e0152"
            ],
            [
             0.1,
             "#c51b7d"
            ],
            [
             0.2,
             "#de77ae"
            ],
            [
             0.3,
             "#f1b6da"
            ],
            [
             0.4,
             "#fde0ef"
            ],
            [
             0.5,
             "#f7f7f7"
            ],
            [
             0.6,
             "#e6f5d0"
            ],
            [
             0.7,
             "#b8e186"
            ],
            [
             0.8,
             "#7fbc41"
            ],
            [
             0.9,
             "#4d9221"
            ],
            [
             1,
             "#276419"
            ]
           ],
           "sequential": [
            [
             0,
             "#0d0887"
            ],
            [
             0.1111111111111111,
             "#46039f"
            ],
            [
             0.2222222222222222,
             "#7201a8"
            ],
            [
             0.3333333333333333,
             "#9c179e"
            ],
            [
             0.4444444444444444,
             "#bd3786"
            ],
            [
             0.5555555555555556,
             "#d8576b"
            ],
            [
             0.6666666666666666,
             "#ed7953"
            ],
            [
             0.7777777777777778,
             "#fb9f3a"
            ],
            [
             0.8888888888888888,
             "#fdca26"
            ],
            [
             1,
             "#f0f921"
            ]
           ],
           "sequentialminus": [
            [
             0,
             "#0d0887"
            ],
            [
             0.1111111111111111,
             "#46039f"
            ],
            [
             0.2222222222222222,
             "#7201a8"
            ],
            [
             0.3333333333333333,
             "#9c179e"
            ],
            [
             0.4444444444444444,
             "#bd3786"
            ],
            [
             0.5555555555555556,
             "#d8576b"
            ],
            [
             0.6666666666666666,
             "#ed7953"
            ],
            [
             0.7777777777777778,
             "#fb9f3a"
            ],
            [
             0.8888888888888888,
             "#fdca26"
            ],
            [
             1,
             "#f0f921"
            ]
           ]
          },
          "colorway": [
           "#636efa",
           "#EF553B",
           "#00cc96",
           "#ab63fa",
           "#FFA15A",
           "#19d3f3",
           "#FF6692",
           "#B6E880",
           "#FF97FF",
           "#FECB52"
          ],
          "font": {
           "color": "#2a3f5f"
          },
          "geo": {
           "bgcolor": "white",
           "lakecolor": "white",
           "landcolor": "#E5ECF6",
           "showlakes": true,
           "showland": true,
           "subunitcolor": "white"
          },
          "hoverlabel": {
           "align": "left"
          },
          "hovermode": "closest",
          "mapbox": {
           "style": "light"
          },
          "paper_bgcolor": "white",
          "plot_bgcolor": "#E5ECF6",
          "polar": {
           "angularaxis": {
            "gridcolor": "white",
            "linecolor": "white",
            "ticks": ""
           },
           "bgcolor": "#E5ECF6",
           "radialaxis": {
            "gridcolor": "white",
            "linecolor": "white",
            "ticks": ""
           }
          },
          "scene": {
           "xaxis": {
            "backgroundcolor": "#E5ECF6",
            "gridcolor": "white",
            "gridwidth": 2,
            "linecolor": "white",
            "showbackground": true,
            "ticks": "",
            "zerolinecolor": "white"
           },
           "yaxis": {
            "backgroundcolor": "#E5ECF6",
            "gridcolor": "white",
            "gridwidth": 2,
            "linecolor": "white",
            "showbackground": true,
            "ticks": "",
            "zerolinecolor": "white"
           },
           "zaxis": {
            "backgroundcolor": "#E5ECF6",
            "gridcolor": "white",
            "gridwidth": 2,
            "linecolor": "white",
            "showbackground": true,
            "ticks": "",
            "zerolinecolor": "white"
           }
          },
          "shapedefaults": {
           "line": {
            "color": "#2a3f5f"
           }
          },
          "ternary": {
           "aaxis": {
            "gridcolor": "white",
            "linecolor": "white",
            "ticks": ""
           },
           "baxis": {
            "gridcolor": "white",
            "linecolor": "white",
            "ticks": ""
           },
           "bgcolor": "#E5ECF6",
           "caxis": {
            "gridcolor": "white",
            "linecolor": "white",
            "ticks": ""
           }
          },
          "title": {
           "x": 0.05
          },
          "xaxis": {
           "automargin": true,
           "gridcolor": "white",
           "linecolor": "white",
           "ticks": "",
           "title": {
            "standoff": 15
           },
           "zerolinecolor": "white",
           "zerolinewidth": 2
          },
          "yaxis": {
           "automargin": true,
           "gridcolor": "white",
           "linecolor": "white",
           "ticks": "",
           "title": {
            "standoff": 15
           },
           "zerolinecolor": "white",
           "zerolinewidth": 2
          }
         }
        },
        "title": {
         "text": "Nearest Neighbors of Wikipedia Dataset Long Text"
        },
        "xaxis": {
         "anchor": "y",
         "domain": [
          0,
          1
         ],
         "title": {
          "text": "50 Closest Neighbors to Christian Bale Long Text"
         }
        },
        "yaxis": {
         "anchor": "x",
         "domain": [
          0,
          1
         ],
         "title": {
          "text": "Distance"
         }
        }
       }
      }
     },
     "metadata": {},
     "output_type": "display_data"
    }
   ],
   "source": [
    "fig = px.line(\n",
    "    \n",
    "    x = None,\n",
    "    y = distance_df2['distances'])\n",
    "fig.update_layout(\n",
    "    title=\"Nearest Neighbors of Wikipedia Dataset Long Text\",\n",
    "    xaxis_title='50 Closest Neighbors to Christian Bale Long Text',\n",
    "    yaxis_title='Distance'\n",
    "    )\n",
    "fig.show()"
   ]
  },
  {
   "cell_type": "code",
   "execution_count": 59,
   "metadata": {},
   "outputs": [
    {
     "data": {
      "text/html": [
       "<div>\n",
       "<style scoped>\n",
       "    .dataframe tbody tr th:only-of-type {\n",
       "        vertical-align: middle;\n",
       "    }\n",
       "\n",
       "    .dataframe tbody tr th {\n",
       "        vertical-align: top;\n",
       "    }\n",
       "\n",
       "    .dataframe thead th {\n",
       "        text-align: right;\n",
       "    }\n",
       "</style>\n",
       "<table border=\"1\" class=\"dataframe\">\n",
       "  <thead>\n",
       "    <tr style=\"text-align: right;\">\n",
       "      <th></th>\n",
       "      <th>indices</th>\n",
       "      <th>distances</th>\n",
       "    </tr>\n",
       "  </thead>\n",
       "  <tbody>\n",
       "    <tr>\n",
       "      <th>0</th>\n",
       "      <td>39695</td>\n",
       "      <td>0.000000</td>\n",
       "    </tr>\n",
       "    <tr>\n",
       "      <th>1</th>\n",
       "      <td>28070</td>\n",
       "      <td>1.201615</td>\n",
       "    </tr>\n",
       "    <tr>\n",
       "      <th>2</th>\n",
       "      <td>5875</td>\n",
       "      <td>1.212054</td>\n",
       "    </tr>\n",
       "    <tr>\n",
       "      <th>3</th>\n",
       "      <td>4672</td>\n",
       "      <td>1.212396</td>\n",
       "    </tr>\n",
       "    <tr>\n",
       "      <th>4</th>\n",
       "      <td>11156</td>\n",
       "      <td>1.212695</td>\n",
       "    </tr>\n",
       "    <tr>\n",
       "      <th>5</th>\n",
       "      <td>39923</td>\n",
       "      <td>1.217291</td>\n",
       "    </tr>\n",
       "    <tr>\n",
       "      <th>6</th>\n",
       "      <td>34836</td>\n",
       "      <td>1.224546</td>\n",
       "    </tr>\n",
       "    <tr>\n",
       "      <th>7</th>\n",
       "      <td>13993</td>\n",
       "      <td>1.233194</td>\n",
       "    </tr>\n",
       "    <tr>\n",
       "      <th>8</th>\n",
       "      <td>29556</td>\n",
       "      <td>1.233400</td>\n",
       "    </tr>\n",
       "    <tr>\n",
       "      <th>9</th>\n",
       "      <td>38372</td>\n",
       "      <td>1.235514</td>\n",
       "    </tr>\n",
       "    <tr>\n",
       "      <th>10</th>\n",
       "      <td>12808</td>\n",
       "      <td>1.245207</td>\n",
       "    </tr>\n",
       "  </tbody>\n",
       "</table>\n",
       "</div>"
      ],
      "text/plain": [
       "    indices  distances\n",
       "0     39695   0.000000\n",
       "1     28070   1.201615\n",
       "2      5875   1.212054\n",
       "3      4672   1.212396\n",
       "4     11156   1.212695\n",
       "5     39923   1.217291\n",
       "6     34836   1.224546\n",
       "7     13993   1.233194\n",
       "8     29556   1.233400\n",
       "9     38372   1.235514\n",
       "10    12808   1.245207"
      ]
     },
     "execution_count": 59,
     "metadata": {},
     "output_type": "execute_result"
    }
   ],
   "source": [
    "distance_df"
   ]
  },
  {
   "cell_type": "code",
   "execution_count": 60,
   "metadata": {},
   "outputs": [
    {
     "data": {
      "text/html": [
       "<div>\n",
       "<style scoped>\n",
       "    .dataframe tbody tr th:only-of-type {\n",
       "        vertical-align: middle;\n",
       "    }\n",
       "\n",
       "    .dataframe tbody tr th {\n",
       "        vertical-align: top;\n",
       "    }\n",
       "\n",
       "    .dataframe thead th {\n",
       "        text-align: right;\n",
       "    }\n",
       "</style>\n",
       "<table border=\"1\" class=\"dataframe\">\n",
       "  <thead>\n",
       "    <tr style=\"text-align: right;\">\n",
       "      <th></th>\n",
       "      <th>indices</th>\n",
       "      <th>distances</th>\n",
       "    </tr>\n",
       "  </thead>\n",
       "  <tbody>\n",
       "    <tr>\n",
       "      <th>0</th>\n",
       "      <td>0</td>\n",
       "      <td>0.000000</td>\n",
       "    </tr>\n",
       "    <tr>\n",
       "      <th>1</th>\n",
       "      <td>1</td>\n",
       "      <td>1.218762</td>\n",
       "    </tr>\n",
       "    <tr>\n",
       "      <th>2</th>\n",
       "      <td>3</td>\n",
       "      <td>1.289884</td>\n",
       "    </tr>\n",
       "    <tr>\n",
       "      <th>3</th>\n",
       "      <td>9</td>\n",
       "      <td>1.291092</td>\n",
       "    </tr>\n",
       "    <tr>\n",
       "      <th>4</th>\n",
       "      <td>4</td>\n",
       "      <td>1.294021</td>\n",
       "    </tr>\n",
       "    <tr>\n",
       "      <th>5</th>\n",
       "      <td>2</td>\n",
       "      <td>1.297877</td>\n",
       "    </tr>\n",
       "    <tr>\n",
       "      <th>6</th>\n",
       "      <td>7</td>\n",
       "      <td>1.315752</td>\n",
       "    </tr>\n",
       "    <tr>\n",
       "      <th>7</th>\n",
       "      <td>6</td>\n",
       "      <td>1.318060</td>\n",
       "    </tr>\n",
       "    <tr>\n",
       "      <th>8</th>\n",
       "      <td>10</td>\n",
       "      <td>1.326763</td>\n",
       "    </tr>\n",
       "    <tr>\n",
       "      <th>9</th>\n",
       "      <td>5</td>\n",
       "      <td>1.333833</td>\n",
       "    </tr>\n",
       "    <tr>\n",
       "      <th>10</th>\n",
       "      <td>8</td>\n",
       "      <td>1.345122</td>\n",
       "    </tr>\n",
       "  </tbody>\n",
       "</table>\n",
       "</div>"
      ],
      "text/plain": [
       "    indices  distances\n",
       "0         0   0.000000\n",
       "1         1   1.218762\n",
       "2         3   1.289884\n",
       "3         9   1.291092\n",
       "4         4   1.294021\n",
       "5         2   1.297877\n",
       "6         7   1.315752\n",
       "7         6   1.318060\n",
       "8        10   1.326763\n",
       "9         5   1.333833\n",
       "10        8   1.345122"
      ]
     },
     "execution_count": 60,
     "metadata": {},
     "output_type": "execute_result"
    }
   ],
   "source": [
    "distance_df2"
   ]
  },
  {
   "cell_type": "code",
   "execution_count": 63,
   "metadata": {},
   "outputs": [
    {
     "data": {
      "text/html": [
       "<div>\n",
       "<style scoped>\n",
       "    .dataframe tbody tr th:only-of-type {\n",
       "        vertical-align: middle;\n",
       "    }\n",
       "\n",
       "    .dataframe tbody tr th {\n",
       "        vertical-align: top;\n",
       "    }\n",
       "\n",
       "    .dataframe thead th {\n",
       "        text-align: right;\n",
       "    }\n",
       "</style>\n",
       "<table border=\"1\" class=\"dataframe\">\n",
       "  <thead>\n",
       "    <tr style=\"text-align: right;\">\n",
       "      <th></th>\n",
       "      <th>URI</th>\n",
       "      <th>name</th>\n",
       "      <th>text</th>\n",
       "      <th>sentiment</th>\n",
       "      <th>clean_text</th>\n",
       "      <th>nn_distance_1</th>\n",
       "      <th>full_text</th>\n",
       "      <th>full sentiment</th>\n",
       "      <th>full_clean_text</th>\n",
       "      <th>nn_distance_2</th>\n",
       "    </tr>\n",
       "  </thead>\n",
       "  <tbody>\n",
       "    <tr>\n",
       "      <th>39695</th>\n",
       "      <td>&lt;http://dbpedia.org/resource/Christian_Bale&gt;</td>\n",
       "      <td>Christian Bale</td>\n",
       "      <td>christian charles philip bale born 30 january ...</td>\n",
       "      <td>(0.18916666666666665, 0.2966666666666667)</td>\n",
       "      <td>[christian, charles, philip, bale, born, 30, j...</td>\n",
       "      <td>NaN</td>\n",
       "      <td>Christian Charles Philip Bale (born 30 January...</td>\n",
       "      <td>(0.1154168870752412, 0.31647796993806937)</td>\n",
       "      <td>NaN</td>\n",
       "      <td>NaN</td>\n",
       "    </tr>\n",
       "    <tr>\n",
       "      <th>28070</th>\n",
       "      <td>&lt;http://dbpedia.org/resource/Amy_Adams&gt;</td>\n",
       "      <td>Amy Adams</td>\n",
       "      <td>amy lou adams born august 20 1974 is an americ...</td>\n",
       "      <td>(0.22387387387387386, 0.28175675675675677)</td>\n",
       "      <td>[amy, lou, adam, born, august, 20, 1974, ameri...</td>\n",
       "      <td>NaN</td>\n",
       "      <td>Amy Lou Adams (born August 20, 1974) is an Ame...</td>\n",
       "      <td>(0.1300817160367722, 0.3954665980087334)</td>\n",
       "      <td>NaN</td>\n",
       "      <td>NaN</td>\n",
       "    </tr>\n",
       "    <tr>\n",
       "      <th>5875</th>\n",
       "      <td>&lt;http://dbpedia.org/resource/Michael_Keaton&gt;</td>\n",
       "      <td>Michael Keaton</td>\n",
       "      <td>michael john douglas born september 5 1951 bet...</td>\n",
       "      <td>(0.1886679292929293, 0.38437499999999997)</td>\n",
       "      <td>[michael, john, douglas, born, september, 5, 1...</td>\n",
       "      <td>NaN</td>\n",
       "      <td>Michael John Douglas (born September 5, 1951),...</td>\n",
       "      <td>(0.10917390096534484, 0.3986533430918459)</td>\n",
       "      <td>NaN</td>\n",
       "      <td>NaN</td>\n",
       "    </tr>\n",
       "    <tr>\n",
       "      <th>4672</th>\n",
       "      <td>&lt;http://dbpedia.org/resource/Daniel_Day-Lewis&gt;</td>\n",
       "      <td>Daniel Day-Lewis</td>\n",
       "      <td>sir daniel michael blake daylewis kt born 29 a...</td>\n",
       "      <td>(0.2114583333333333, 0.3815972222222222)</td>\n",
       "      <td>[sir, daniel, michael, blake, daylewis, kt, bo...</td>\n",
       "      <td>NaN</td>\n",
       "      <td>Sir Daniel Michael Blake Day-Lewis (born 29 Ap...</td>\n",
       "      <td>(0.1720494282584446, 0.348486373978177)</td>\n",
       "      <td>NaN</td>\n",
       "      <td>NaN</td>\n",
       "    </tr>\n",
       "    <tr>\n",
       "      <th>11156</th>\n",
       "      <td>&lt;http://dbpedia.org/resource/Anne_Hathaway&gt;</td>\n",
       "      <td>Anne Hathaway</td>\n",
       "      <td>anne jacqueline hathaway born november 12 1982...</td>\n",
       "      <td>(0.25546536796536795, 0.35633116883116883)</td>\n",
       "      <td>[anne, jacqueline, hathaway, born, november, 1...</td>\n",
       "      <td>NaN</td>\n",
       "      <td>Anne Jacqueline Hathaway (born November 12, 19...</td>\n",
       "      <td>(0.1338206836972, 0.38011790154771125)</td>\n",
       "      <td>NaN</td>\n",
       "      <td>NaN</td>\n",
       "    </tr>\n",
       "    <tr>\n",
       "      <th>39923</th>\n",
       "      <td>&lt;http://dbpedia.org/resource/Jack_Nicholson&gt;</td>\n",
       "      <td>Jack Nicholson</td>\n",
       "      <td>john joseph jack nicholson born april 22 1937 ...</td>\n",
       "      <td>(0.23333333333333334, 0.4002604166666667)</td>\n",
       "      <td>[john, joseph, jack, nicholson, born, april, 2...</td>\n",
       "      <td>NaN</td>\n",
       "      <td>John Joseph Nicholson (born April 22, 1937) is...</td>\n",
       "      <td>(0.1425362244995014, 0.40812247493038506)</td>\n",
       "      <td>NaN</td>\n",
       "      <td>NaN</td>\n",
       "    </tr>\n",
       "    <tr>\n",
       "      <th>34836</th>\n",
       "      <td>&lt;http://dbpedia.org/resource/Michael_Caine&gt;</td>\n",
       "      <td>Michael Caine</td>\n",
       "      <td>sir michael caine cbe ken born maurice joseph ...</td>\n",
       "      <td>(0.20304054054054052, 0.32747747747747746)</td>\n",
       "      <td>[sir, michael, caine, cbe, ken, born, maurice,...</td>\n",
       "      <td>NaN</td>\n",
       "      <td>Sir Michael Caine  (born Maurice Joseph Mickle...</td>\n",
       "      <td>(0.07516953857774175, 0.36406321272043946)</td>\n",
       "      <td>NaN</td>\n",
       "      <td>NaN</td>\n",
       "    </tr>\n",
       "    <tr>\n",
       "      <th>13993</th>\n",
       "      <td>&lt;http://dbpedia.org/resource/Ralph_Fiennes&gt;</td>\n",
       "      <td>Ralph Fiennes</td>\n",
       "      <td>ralph nathaniel twisletonwykehamfiennes ref fa...</td>\n",
       "      <td>(0.3046875, 0.3194444444444444)</td>\n",
       "      <td>[ralph, nathaniel, twisletonwykehamfiennes, re...</td>\n",
       "      <td>NaN</td>\n",
       "      <td>Ralph Nathaniel Twisleton-Wykeham-Fiennes (; b...</td>\n",
       "      <td>(0.10110291907166907, 0.3501971914081287)</td>\n",
       "      <td>NaN</td>\n",
       "      <td>NaN</td>\n",
       "    </tr>\n",
       "    <tr>\n",
       "      <th>29556</th>\n",
       "      <td>&lt;http://dbpedia.org/resource/Felicity_Huffman&gt;</td>\n",
       "      <td>Felicity Huffman</td>\n",
       "      <td>felicity kendall huffman born december 9 1962 ...</td>\n",
       "      <td>(0.215, 0.40374999999999994)</td>\n",
       "      <td>[felicity, kendall, huffman, born, december, 9...</td>\n",
       "      <td>NaN</td>\n",
       "      <td>Felicity Kendall Huffman (born December 9, 196...</td>\n",
       "      <td>(0.12875308892496398, 0.4129040646853146)</td>\n",
       "      <td>NaN</td>\n",
       "      <td>NaN</td>\n",
       "    </tr>\n",
       "    <tr>\n",
       "      <th>38372</th>\n",
       "      <td>&lt;http://dbpedia.org/resource/Liam_Neeson&gt;</td>\n",
       "      <td>Liam Neeson</td>\n",
       "      <td>liam john neeson obe born 7 june 1952 is an ir...</td>\n",
       "      <td>(0.4015625, 0.40156249999999993)</td>\n",
       "      <td>[liam, john, neeson, obe, born, 7, june, 1952,...</td>\n",
       "      <td>NaN</td>\n",
       "      <td>William John Neeson  (born 7 June 1952) is a N...</td>\n",
       "      <td>(0.10508207070707073, 0.348951884435755)</td>\n",
       "      <td>NaN</td>\n",
       "      <td>NaN</td>\n",
       "    </tr>\n",
       "    <tr>\n",
       "      <th>12808</th>\n",
       "      <td>&lt;http://dbpedia.org/resource/Tom_Hanks&gt;</td>\n",
       "      <td>Tom Hanks</td>\n",
       "      <td>thomas jeffrey tom hanks born july 9 1956 is a...</td>\n",
       "      <td>(0.2722222222222222, 0.34583333333333327)</td>\n",
       "      <td>[thomas, jeffrey, tom, hank, born, july, 9, 19...</td>\n",
       "      <td>NaN</td>\n",
       "      <td>Thomas Jeffrey Hanks (born July 9, 1956) is an...</td>\n",
       "      <td>(0.14874709460193328, 0.3903599512793062)</td>\n",
       "      <td>NaN</td>\n",
       "      <td>NaN</td>\n",
       "    </tr>\n",
       "  </tbody>\n",
       "</table>\n",
       "</div>"
      ],
      "text/plain": [
       "                                                  URI              name  \\\n",
       "39695    <http://dbpedia.org/resource/Christian_Bale>    Christian Bale   \n",
       "28070         <http://dbpedia.org/resource/Amy_Adams>         Amy Adams   \n",
       "5875     <http://dbpedia.org/resource/Michael_Keaton>    Michael Keaton   \n",
       "4672   <http://dbpedia.org/resource/Daniel_Day-Lewis>  Daniel Day-Lewis   \n",
       "11156     <http://dbpedia.org/resource/Anne_Hathaway>     Anne Hathaway   \n",
       "39923    <http://dbpedia.org/resource/Jack_Nicholson>    Jack Nicholson   \n",
       "34836     <http://dbpedia.org/resource/Michael_Caine>     Michael Caine   \n",
       "13993     <http://dbpedia.org/resource/Ralph_Fiennes>     Ralph Fiennes   \n",
       "29556  <http://dbpedia.org/resource/Felicity_Huffman>  Felicity Huffman   \n",
       "38372       <http://dbpedia.org/resource/Liam_Neeson>       Liam Neeson   \n",
       "12808         <http://dbpedia.org/resource/Tom_Hanks>         Tom Hanks   \n",
       "\n",
       "                                                    text  \\\n",
       "39695  christian charles philip bale born 30 january ...   \n",
       "28070  amy lou adams born august 20 1974 is an americ...   \n",
       "5875   michael john douglas born september 5 1951 bet...   \n",
       "4672   sir daniel michael blake daylewis kt born 29 a...   \n",
       "11156  anne jacqueline hathaway born november 12 1982...   \n",
       "39923  john joseph jack nicholson born april 22 1937 ...   \n",
       "34836  sir michael caine cbe ken born maurice joseph ...   \n",
       "13993  ralph nathaniel twisletonwykehamfiennes ref fa...   \n",
       "29556  felicity kendall huffman born december 9 1962 ...   \n",
       "38372  liam john neeson obe born 7 june 1952 is an ir...   \n",
       "12808  thomas jeffrey tom hanks born july 9 1956 is a...   \n",
       "\n",
       "                                        sentiment  \\\n",
       "39695   (0.18916666666666665, 0.2966666666666667)   \n",
       "28070  (0.22387387387387386, 0.28175675675675677)   \n",
       "5875    (0.1886679292929293, 0.38437499999999997)   \n",
       "4672     (0.2114583333333333, 0.3815972222222222)   \n",
       "11156  (0.25546536796536795, 0.35633116883116883)   \n",
       "39923   (0.23333333333333334, 0.4002604166666667)   \n",
       "34836  (0.20304054054054052, 0.32747747747747746)   \n",
       "13993             (0.3046875, 0.3194444444444444)   \n",
       "29556                (0.215, 0.40374999999999994)   \n",
       "38372            (0.4015625, 0.40156249999999993)   \n",
       "12808   (0.2722222222222222, 0.34583333333333327)   \n",
       "\n",
       "                                              clean_text  nn_distance_1  \\\n",
       "39695  [christian, charles, philip, bale, born, 30, j...            NaN   \n",
       "28070  [amy, lou, adam, born, august, 20, 1974, ameri...            NaN   \n",
       "5875   [michael, john, douglas, born, september, 5, 1...            NaN   \n",
       "4672   [sir, daniel, michael, blake, daylewis, kt, bo...            NaN   \n",
       "11156  [anne, jacqueline, hathaway, born, november, 1...            NaN   \n",
       "39923  [john, joseph, jack, nicholson, born, april, 2...            NaN   \n",
       "34836  [sir, michael, caine, cbe, ken, born, maurice,...            NaN   \n",
       "13993  [ralph, nathaniel, twisletonwykehamfiennes, re...            NaN   \n",
       "29556  [felicity, kendall, huffman, born, december, 9...            NaN   \n",
       "38372  [liam, john, neeson, obe, born, 7, june, 1952,...            NaN   \n",
       "12808  [thomas, jeffrey, tom, hank, born, july, 9, 19...            NaN   \n",
       "\n",
       "                                               full_text  \\\n",
       "39695  Christian Charles Philip Bale (born 30 January...   \n",
       "28070  Amy Lou Adams (born August 20, 1974) is an Ame...   \n",
       "5875   Michael John Douglas (born September 5, 1951),...   \n",
       "4672   Sir Daniel Michael Blake Day-Lewis (born 29 Ap...   \n",
       "11156  Anne Jacqueline Hathaway (born November 12, 19...   \n",
       "39923  John Joseph Nicholson (born April 22, 1937) is...   \n",
       "34836  Sir Michael Caine  (born Maurice Joseph Mickle...   \n",
       "13993  Ralph Nathaniel Twisleton-Wykeham-Fiennes (; b...   \n",
       "29556  Felicity Kendall Huffman (born December 9, 196...   \n",
       "38372  William John Neeson  (born 7 June 1952) is a N...   \n",
       "12808  Thomas Jeffrey Hanks (born July 9, 1956) is an...   \n",
       "\n",
       "                                   full sentiment full_clean_text  \\\n",
       "39695   (0.1154168870752412, 0.31647796993806937)             NaN   \n",
       "28070    (0.1300817160367722, 0.3954665980087334)             NaN   \n",
       "5875    (0.10917390096534484, 0.3986533430918459)             NaN   \n",
       "4672      (0.1720494282584446, 0.348486373978177)             NaN   \n",
       "11156      (0.1338206836972, 0.38011790154771125)             NaN   \n",
       "39923   (0.1425362244995014, 0.40812247493038506)             NaN   \n",
       "34836  (0.07516953857774175, 0.36406321272043946)             NaN   \n",
       "13993   (0.10110291907166907, 0.3501971914081287)             NaN   \n",
       "29556   (0.12875308892496398, 0.4129040646853146)             NaN   \n",
       "38372    (0.10508207070707073, 0.348951884435755)             NaN   \n",
       "12808   (0.14874709460193328, 0.3903599512793062)             NaN   \n",
       "\n",
       "       nn_distance_2  \n",
       "39695            NaN  \n",
       "28070            NaN  \n",
       "5875             NaN  \n",
       "4672             NaN  \n",
       "11156            NaN  \n",
       "39923            NaN  \n",
       "34836            NaN  \n",
       "13993            NaN  \n",
       "29556            NaN  \n",
       "38372            NaN  \n",
       "12808            NaN  "
      ]
     },
     "execution_count": 63,
     "metadata": {},
     "output_type": "execute_result"
    }
   ],
   "source": [
    "target"
   ]
  },
  {
   "cell_type": "code",
   "execution_count": null,
   "metadata": {},
   "outputs": [],
   "source": []
  }
 ],
 "metadata": {
  "colab": {
   "provenance": []
  },
  "kernelspec": {
   "display_name": ".venv",
   "language": "python",
   "name": "python3"
  },
  "language_info": {
   "codemirror_mode": {
    "name": "ipython",
    "version": 3
   },
   "file_extension": ".py",
   "mimetype": "text/x-python",
   "name": "python",
   "nbconvert_exporter": "python",
   "pygments_lexer": "ipython3",
   "version": "3.13.0"
  }
 },
 "nbformat": 4,
 "nbformat_minor": 0
}
